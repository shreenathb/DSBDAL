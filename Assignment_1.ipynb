{
 "cells": [
  {
   "cell_type": "code",
   "execution_count": 1,
   "id": "c61079f0-2b07-486a-be73-26abfba359c5",
   "metadata": {},
   "outputs": [],
   "source": [
    "import pandas as pd"
   ]
  },
  {
   "cell_type": "code",
   "execution_count": 2,
   "id": "54b8ac08-ab6e-44f0-a204-c2dede8eb795",
   "metadata": {},
   "outputs": [],
   "source": [
    "df = pd.read_csv('nba.csv')"
   ]
  },
  {
   "cell_type": "code",
   "execution_count": 3,
   "id": "22abcb73-216a-490f-a0a6-9c8f94d10604",
   "metadata": {},
   "outputs": [
    {
     "data": {
      "text/html": [
       "<div>\n",
       "<style scoped>\n",
       "    .dataframe tbody tr th:only-of-type {\n",
       "        vertical-align: middle;\n",
       "    }\n",
       "\n",
       "    .dataframe tbody tr th {\n",
       "        vertical-align: top;\n",
       "    }\n",
       "\n",
       "    .dataframe thead th {\n",
       "        text-align: right;\n",
       "    }\n",
       "</style>\n",
       "<table border=\"1\" class=\"dataframe\">\n",
       "  <thead>\n",
       "    <tr style=\"text-align: right;\">\n",
       "      <th></th>\n",
       "      <th>Name</th>\n",
       "      <th>Team</th>\n",
       "      <th>Number</th>\n",
       "      <th>Position</th>\n",
       "      <th>Age</th>\n",
       "      <th>Height</th>\n",
       "      <th>Weight</th>\n",
       "      <th>College</th>\n",
       "      <th>Salary</th>\n",
       "    </tr>\n",
       "  </thead>\n",
       "  <tbody>\n",
       "    <tr>\n",
       "      <th>0</th>\n",
       "      <td>Avery Bradley</td>\n",
       "      <td>Boston Celtics</td>\n",
       "      <td>0.0</td>\n",
       "      <td>PG</td>\n",
       "      <td>25.0</td>\n",
       "      <td>6-2</td>\n",
       "      <td>180.0</td>\n",
       "      <td>Texas</td>\n",
       "      <td>7730337.0</td>\n",
       "    </tr>\n",
       "    <tr>\n",
       "      <th>1</th>\n",
       "      <td>Jae Crowder</td>\n",
       "      <td>Boston Celtics</td>\n",
       "      <td>99.0</td>\n",
       "      <td>SF</td>\n",
       "      <td>25.0</td>\n",
       "      <td>6-6</td>\n",
       "      <td>235.0</td>\n",
       "      <td>Marquette</td>\n",
       "      <td>6796117.0</td>\n",
       "    </tr>\n",
       "    <tr>\n",
       "      <th>2</th>\n",
       "      <td>John Holland</td>\n",
       "      <td>Boston Celtics</td>\n",
       "      <td>30.0</td>\n",
       "      <td>SG</td>\n",
       "      <td>27.0</td>\n",
       "      <td>6-5</td>\n",
       "      <td>205.0</td>\n",
       "      <td>Boston University</td>\n",
       "      <td>NaN</td>\n",
       "    </tr>\n",
       "    <tr>\n",
       "      <th>3</th>\n",
       "      <td>R.J. Hunter</td>\n",
       "      <td>Boston Celtics</td>\n",
       "      <td>28.0</td>\n",
       "      <td>SG</td>\n",
       "      <td>22.0</td>\n",
       "      <td>6-5</td>\n",
       "      <td>185.0</td>\n",
       "      <td>Georgia State</td>\n",
       "      <td>1148640.0</td>\n",
       "    </tr>\n",
       "    <tr>\n",
       "      <th>4</th>\n",
       "      <td>Jonas Jerebko</td>\n",
       "      <td>Boston Celtics</td>\n",
       "      <td>8.0</td>\n",
       "      <td>PF</td>\n",
       "      <td>29.0</td>\n",
       "      <td>6-10</td>\n",
       "      <td>231.0</td>\n",
       "      <td>NaN</td>\n",
       "      <td>5000000.0</td>\n",
       "    </tr>\n",
       "  </tbody>\n",
       "</table>\n",
       "</div>"
      ],
      "text/plain": [
       "            Name            Team  Number Position   Age Height  Weight  \\\n",
       "0  Avery Bradley  Boston Celtics     0.0       PG  25.0    6-2   180.0   \n",
       "1    Jae Crowder  Boston Celtics    99.0       SF  25.0    6-6   235.0   \n",
       "2   John Holland  Boston Celtics    30.0       SG  27.0    6-5   205.0   \n",
       "3    R.J. Hunter  Boston Celtics    28.0       SG  22.0    6-5   185.0   \n",
       "4  Jonas Jerebko  Boston Celtics     8.0       PF  29.0   6-10   231.0   \n",
       "\n",
       "             College     Salary  \n",
       "0              Texas  7730337.0  \n",
       "1          Marquette  6796117.0  \n",
       "2  Boston University        NaN  \n",
       "3      Georgia State  1148640.0  \n",
       "4                NaN  5000000.0  "
      ]
     },
     "execution_count": 3,
     "metadata": {},
     "output_type": "execute_result"
    }
   ],
   "source": [
    "df.head()"
   ]
  },
  {
   "cell_type": "code",
   "execution_count": 25,
   "id": "1ec8c419-0711-4716-972d-892832d211cf",
   "metadata": {},
   "outputs": [
    {
     "data": {
      "text/plain": [
       "Name         object\n",
       "Team         object\n",
       "Number      float64\n",
       "Position     object\n",
       "Age         float64\n",
       "Height       object\n",
       "Weight      float64\n",
       "College      object\n",
       "Salary      float64\n",
       "dtype: object"
      ]
     },
     "execution_count": 25,
     "metadata": {},
     "output_type": "execute_result"
    }
   ],
   "source": [
    "df.dtypes"
   ]
  },
  {
   "cell_type": "code",
   "execution_count": 26,
   "id": "2641c7d1-9dec-412e-8644-b01ef1253d59",
   "metadata": {},
   "outputs": [],
   "source": [
    "df['Name'] = df['Name'].astype('str')\n",
    "df['College'] = df['College'].astype('str')\n",
    "df['Team'] = df['Team'].astype('str')\n",
    "df['Position'] = df['Position'].astype('str')\n",
    "df['Height'] = df['Height'].astype('str')"
   ]
  },
  {
   "cell_type": "code",
   "execution_count": 27,
   "id": "6458feef-9b3b-443b-b8fc-6fc50efaa6ce",
   "metadata": {},
   "outputs": [],
   "source": [
    "df['Height'] = df['Height'].str.replace('-', \"'\")"
   ]
  },
  {
   "cell_type": "code",
   "execution_count": 29,
   "id": "c87cc188-ab00-4a8c-9660-7913296e007c",
   "metadata": {},
   "outputs": [],
   "source": [
    "df['Number'] = df['Number'].astype(int)"
   ]
  },
  {
   "cell_type": "code",
   "execution_count": 30,
   "id": "24e4e0b8-a238-441e-aead-bb14ea2e74f8",
   "metadata": {},
   "outputs": [
    {
     "data": {
      "text/html": [
       "<div>\n",
       "<style scoped>\n",
       "    .dataframe tbody tr th:only-of-type {\n",
       "        vertical-align: middle;\n",
       "    }\n",
       "\n",
       "    .dataframe tbody tr th {\n",
       "        vertical-align: top;\n",
       "    }\n",
       "\n",
       "    .dataframe thead th {\n",
       "        text-align: right;\n",
       "    }\n",
       "</style>\n",
       "<table border=\"1\" class=\"dataframe\">\n",
       "  <thead>\n",
       "    <tr style=\"text-align: right;\">\n",
       "      <th></th>\n",
       "      <th>Name</th>\n",
       "      <th>Team</th>\n",
       "      <th>Number</th>\n",
       "      <th>Position</th>\n",
       "      <th>Age</th>\n",
       "      <th>Height</th>\n",
       "      <th>Weight</th>\n",
       "      <th>College</th>\n",
       "      <th>Salary</th>\n",
       "    </tr>\n",
       "  </thead>\n",
       "  <tbody>\n",
       "    <tr>\n",
       "      <th>0</th>\n",
       "      <td>Avery Bradley</td>\n",
       "      <td>Boston Celtics</td>\n",
       "      <td>0</td>\n",
       "      <td>PG</td>\n",
       "      <td>25.0</td>\n",
       "      <td>6'2</td>\n",
       "      <td>180.0</td>\n",
       "      <td>Texas</td>\n",
       "      <td>7.730337e+06</td>\n",
       "    </tr>\n",
       "    <tr>\n",
       "      <th>1</th>\n",
       "      <td>Jae Crowder</td>\n",
       "      <td>Boston Celtics</td>\n",
       "      <td>99</td>\n",
       "      <td>SF</td>\n",
       "      <td>25.0</td>\n",
       "      <td>6'6</td>\n",
       "      <td>235.0</td>\n",
       "      <td>Marquette</td>\n",
       "      <td>6.796117e+06</td>\n",
       "    </tr>\n",
       "    <tr>\n",
       "      <th>2</th>\n",
       "      <td>John Holland</td>\n",
       "      <td>Boston Celtics</td>\n",
       "      <td>30</td>\n",
       "      <td>SG</td>\n",
       "      <td>27.0</td>\n",
       "      <td>6'5</td>\n",
       "      <td>205.0</td>\n",
       "      <td>Boston University</td>\n",
       "      <td>4.842684e+06</td>\n",
       "    </tr>\n",
       "    <tr>\n",
       "      <th>3</th>\n",
       "      <td>R.J. Hunter</td>\n",
       "      <td>Boston Celtics</td>\n",
       "      <td>28</td>\n",
       "      <td>SG</td>\n",
       "      <td>22.0</td>\n",
       "      <td>6'5</td>\n",
       "      <td>185.0</td>\n",
       "      <td>Georgia State</td>\n",
       "      <td>1.148640e+06</td>\n",
       "    </tr>\n",
       "    <tr>\n",
       "      <th>4</th>\n",
       "      <td>Jonas Jerebko</td>\n",
       "      <td>Boston Celtics</td>\n",
       "      <td>8</td>\n",
       "      <td>PF</td>\n",
       "      <td>29.0</td>\n",
       "      <td>6'10</td>\n",
       "      <td>231.0</td>\n",
       "      <td>Kentucky</td>\n",
       "      <td>5.000000e+06</td>\n",
       "    </tr>\n",
       "  </tbody>\n",
       "</table>\n",
       "</div>"
      ],
      "text/plain": [
       "            Name            Team  Number Position   Age Height  Weight  \\\n",
       "0  Avery Bradley  Boston Celtics       0       PG  25.0    6'2   180.0   \n",
       "1    Jae Crowder  Boston Celtics      99       SF  25.0    6'6   235.0   \n",
       "2   John Holland  Boston Celtics      30       SG  27.0    6'5   205.0   \n",
       "3    R.J. Hunter  Boston Celtics      28       SG  22.0    6'5   185.0   \n",
       "4  Jonas Jerebko  Boston Celtics       8       PF  29.0   6'10   231.0   \n",
       "\n",
       "             College        Salary  \n",
       "0              Texas  7.730337e+06  \n",
       "1          Marquette  6.796117e+06  \n",
       "2  Boston University  4.842684e+06  \n",
       "3      Georgia State  1.148640e+06  \n",
       "4           Kentucky  5.000000e+06  "
      ]
     },
     "execution_count": 30,
     "metadata": {},
     "output_type": "execute_result"
    }
   ],
   "source": [
    "df.head()"
   ]
  },
  {
   "cell_type": "code",
   "execution_count": 37,
   "id": "313658d7-3817-471f-bfc1-6a796447dc5a",
   "metadata": {},
   "outputs": [],
   "source": [
    "df['Height_cm'] = df['Height'].apply(lambda x : int(x.split(\"'\")[0]) * 30.48 + int(x.split(\"'\")[1]) *2.54)"
   ]
  },
  {
   "cell_type": "code",
   "execution_count": 38,
   "id": "09970539-c8c4-4a3e-a63e-872cf302a3e1",
   "metadata": {},
   "outputs": [
    {
     "data": {
      "text/html": [
       "<div>\n",
       "<style scoped>\n",
       "    .dataframe tbody tr th:only-of-type {\n",
       "        vertical-align: middle;\n",
       "    }\n",
       "\n",
       "    .dataframe tbody tr th {\n",
       "        vertical-align: top;\n",
       "    }\n",
       "\n",
       "    .dataframe thead th {\n",
       "        text-align: right;\n",
       "    }\n",
       "</style>\n",
       "<table border=\"1\" class=\"dataframe\">\n",
       "  <thead>\n",
       "    <tr style=\"text-align: right;\">\n",
       "      <th></th>\n",
       "      <th>Name</th>\n",
       "      <th>Team</th>\n",
       "      <th>Number</th>\n",
       "      <th>Position</th>\n",
       "      <th>Age</th>\n",
       "      <th>Height</th>\n",
       "      <th>Weight</th>\n",
       "      <th>College</th>\n",
       "      <th>Salary</th>\n",
       "      <th>Height_cm</th>\n",
       "    </tr>\n",
       "  </thead>\n",
       "  <tbody>\n",
       "    <tr>\n",
       "      <th>0</th>\n",
       "      <td>Avery Bradley</td>\n",
       "      <td>Boston Celtics</td>\n",
       "      <td>0</td>\n",
       "      <td>PG</td>\n",
       "      <td>25.0</td>\n",
       "      <td>6'2</td>\n",
       "      <td>180.0</td>\n",
       "      <td>Texas</td>\n",
       "      <td>7.730337e+06</td>\n",
       "      <td>187.96</td>\n",
       "    </tr>\n",
       "    <tr>\n",
       "      <th>1</th>\n",
       "      <td>Jae Crowder</td>\n",
       "      <td>Boston Celtics</td>\n",
       "      <td>99</td>\n",
       "      <td>SF</td>\n",
       "      <td>25.0</td>\n",
       "      <td>6'6</td>\n",
       "      <td>235.0</td>\n",
       "      <td>Marquette</td>\n",
       "      <td>6.796117e+06</td>\n",
       "      <td>198.12</td>\n",
       "    </tr>\n",
       "    <tr>\n",
       "      <th>2</th>\n",
       "      <td>John Holland</td>\n",
       "      <td>Boston Celtics</td>\n",
       "      <td>30</td>\n",
       "      <td>SG</td>\n",
       "      <td>27.0</td>\n",
       "      <td>6'5</td>\n",
       "      <td>205.0</td>\n",
       "      <td>Boston University</td>\n",
       "      <td>4.842684e+06</td>\n",
       "      <td>195.58</td>\n",
       "    </tr>\n",
       "    <tr>\n",
       "      <th>3</th>\n",
       "      <td>R.J. Hunter</td>\n",
       "      <td>Boston Celtics</td>\n",
       "      <td>28</td>\n",
       "      <td>SG</td>\n",
       "      <td>22.0</td>\n",
       "      <td>6'5</td>\n",
       "      <td>185.0</td>\n",
       "      <td>Georgia State</td>\n",
       "      <td>1.148640e+06</td>\n",
       "      <td>195.58</td>\n",
       "    </tr>\n",
       "    <tr>\n",
       "      <th>4</th>\n",
       "      <td>Jonas Jerebko</td>\n",
       "      <td>Boston Celtics</td>\n",
       "      <td>8</td>\n",
       "      <td>PF</td>\n",
       "      <td>29.0</td>\n",
       "      <td>6'10</td>\n",
       "      <td>231.0</td>\n",
       "      <td>Kentucky</td>\n",
       "      <td>5.000000e+06</td>\n",
       "      <td>208.28</td>\n",
       "    </tr>\n",
       "  </tbody>\n",
       "</table>\n",
       "</div>"
      ],
      "text/plain": [
       "            Name            Team  Number Position   Age Height  Weight  \\\n",
       "0  Avery Bradley  Boston Celtics       0       PG  25.0    6'2   180.0   \n",
       "1    Jae Crowder  Boston Celtics      99       SF  25.0    6'6   235.0   \n",
       "2   John Holland  Boston Celtics      30       SG  27.0    6'5   205.0   \n",
       "3    R.J. Hunter  Boston Celtics      28       SG  22.0    6'5   185.0   \n",
       "4  Jonas Jerebko  Boston Celtics       8       PF  29.0   6'10   231.0   \n",
       "\n",
       "             College        Salary  Height_cm  \n",
       "0              Texas  7.730337e+06     187.96  \n",
       "1          Marquette  6.796117e+06     198.12  \n",
       "2  Boston University  4.842684e+06     195.58  \n",
       "3      Georgia State  1.148640e+06     195.58  \n",
       "4           Kentucky  5.000000e+06     208.28  "
      ]
     },
     "execution_count": 38,
     "metadata": {},
     "output_type": "execute_result"
    }
   ],
   "source": [
    "df.head()"
   ]
  },
  {
   "cell_type": "code",
   "execution_count": 4,
   "id": "725d2e14-86cd-48a7-ab7c-dca1d7144671",
   "metadata": {},
   "outputs": [
    {
     "data": {
      "text/html": [
       "<div>\n",
       "<style scoped>\n",
       "    .dataframe tbody tr th:only-of-type {\n",
       "        vertical-align: middle;\n",
       "    }\n",
       "\n",
       "    .dataframe tbody tr th {\n",
       "        vertical-align: top;\n",
       "    }\n",
       "\n",
       "    .dataframe thead th {\n",
       "        text-align: right;\n",
       "    }\n",
       "</style>\n",
       "<table border=\"1\" class=\"dataframe\">\n",
       "  <thead>\n",
       "    <tr style=\"text-align: right;\">\n",
       "      <th></th>\n",
       "      <th>Number</th>\n",
       "      <th>Age</th>\n",
       "      <th>Weight</th>\n",
       "      <th>Salary</th>\n",
       "    </tr>\n",
       "  </thead>\n",
       "  <tbody>\n",
       "    <tr>\n",
       "      <th>count</th>\n",
       "      <td>457.000000</td>\n",
       "      <td>457.000000</td>\n",
       "      <td>457.000000</td>\n",
       "      <td>4.460000e+02</td>\n",
       "    </tr>\n",
       "    <tr>\n",
       "      <th>mean</th>\n",
       "      <td>17.678337</td>\n",
       "      <td>26.938731</td>\n",
       "      <td>221.522976</td>\n",
       "      <td>4.842684e+06</td>\n",
       "    </tr>\n",
       "    <tr>\n",
       "      <th>std</th>\n",
       "      <td>15.966090</td>\n",
       "      <td>4.404016</td>\n",
       "      <td>26.368343</td>\n",
       "      <td>5.229238e+06</td>\n",
       "    </tr>\n",
       "    <tr>\n",
       "      <th>min</th>\n",
       "      <td>0.000000</td>\n",
       "      <td>19.000000</td>\n",
       "      <td>161.000000</td>\n",
       "      <td>3.088800e+04</td>\n",
       "    </tr>\n",
       "    <tr>\n",
       "      <th>25%</th>\n",
       "      <td>5.000000</td>\n",
       "      <td>24.000000</td>\n",
       "      <td>200.000000</td>\n",
       "      <td>1.044792e+06</td>\n",
       "    </tr>\n",
       "    <tr>\n",
       "      <th>50%</th>\n",
       "      <td>13.000000</td>\n",
       "      <td>26.000000</td>\n",
       "      <td>220.000000</td>\n",
       "      <td>2.839073e+06</td>\n",
       "    </tr>\n",
       "    <tr>\n",
       "      <th>75%</th>\n",
       "      <td>25.000000</td>\n",
       "      <td>30.000000</td>\n",
       "      <td>240.000000</td>\n",
       "      <td>6.500000e+06</td>\n",
       "    </tr>\n",
       "    <tr>\n",
       "      <th>max</th>\n",
       "      <td>99.000000</td>\n",
       "      <td>40.000000</td>\n",
       "      <td>307.000000</td>\n",
       "      <td>2.500000e+07</td>\n",
       "    </tr>\n",
       "  </tbody>\n",
       "</table>\n",
       "</div>"
      ],
      "text/plain": [
       "           Number         Age      Weight        Salary\n",
       "count  457.000000  457.000000  457.000000  4.460000e+02\n",
       "mean    17.678337   26.938731  221.522976  4.842684e+06\n",
       "std     15.966090    4.404016   26.368343  5.229238e+06\n",
       "min      0.000000   19.000000  161.000000  3.088800e+04\n",
       "25%      5.000000   24.000000  200.000000  1.044792e+06\n",
       "50%     13.000000   26.000000  220.000000  2.839073e+06\n",
       "75%     25.000000   30.000000  240.000000  6.500000e+06\n",
       "max     99.000000   40.000000  307.000000  2.500000e+07"
      ]
     },
     "execution_count": 4,
     "metadata": {},
     "output_type": "execute_result"
    }
   ],
   "source": [
    "df.describe()"
   ]
  },
  {
   "cell_type": "code",
   "execution_count": 6,
   "id": "bb2b48f7-da99-4fa5-a377-548db25315e6",
   "metadata": {},
   "outputs": [
    {
     "data": {
      "text/plain": [
       "Team\n",
       "New Orleans Pelicans      19\n",
       "Memphis Grizzlies         18\n",
       "New York Knicks           16\n",
       "Milwaukee Bucks           16\n",
       "Boston Celtics            15\n",
       "Brooklyn Nets             15\n",
       "Portland Trail Blazers    15\n",
       "Oklahoma City Thunder     15\n",
       "Denver Nuggets            15\n",
       "Washington Wizards        15\n",
       "Miami Heat                15\n",
       "Charlotte Hornets         15\n",
       "Atlanta Hawks             15\n",
       "San Antonio Spurs         15\n",
       "Houston Rockets           15\n",
       "Dallas Mavericks          15\n",
       "Indiana Pacers            15\n",
       "Detroit Pistons           15\n",
       "Cleveland Cavaliers       15\n",
       "Chicago Bulls             15\n",
       "Sacramento Kings          15\n",
       "Phoenix Suns              15\n",
       "Los Angeles Lakers        15\n",
       "Los Angeles Clippers      15\n",
       "Golden State Warriors     15\n",
       "Toronto Raptors           15\n",
       "Philadelphia 76ers        15\n",
       "Utah Jazz                 15\n",
       "Orlando Magic             14\n",
       "Minnesota Timberwolves    14\n",
       "Name: count, dtype: int64"
      ]
     },
     "execution_count": 6,
     "metadata": {},
     "output_type": "execute_result"
    }
   ],
   "source": [
    "df['Team'].value_counts()"
   ]
  },
  {
   "cell_type": "code",
   "execution_count": 7,
   "id": "3effaee6-2222-4eb1-93d8-94747b758213",
   "metadata": {},
   "outputs": [
    {
     "data": {
      "text/plain": [
       "Name         1\n",
       "Team         1\n",
       "Number       1\n",
       "Position     1\n",
       "Age          1\n",
       "Height       1\n",
       "Weight       1\n",
       "College     85\n",
       "Salary      12\n",
       "dtype: int64"
      ]
     },
     "execution_count": 7,
     "metadata": {},
     "output_type": "execute_result"
    }
   ],
   "source": [
    "df.isnull().sum()"
   ]
  },
  {
   "cell_type": "code",
   "execution_count": 18,
   "id": "f11b3f0a-cc96-48b3-959a-4bcff93407ca",
   "metadata": {},
   "outputs": [
    {
     "data": {
      "text/plain": [
       "0    Kentucky\n",
       "Name: College, dtype: object"
      ]
     },
     "execution_count": 18,
     "metadata": {},
     "output_type": "execute_result"
    }
   ],
   "source": [
    "df['College'].mode()"
   ]
  },
  {
   "cell_type": "code",
   "execution_count": 13,
   "id": "fdaa8556-a4dd-441d-b520-1b33946e325c",
   "metadata": {},
   "outputs": [],
   "source": [
    "df['College'] = df['College'].fillna(df['College'].mode()[0])"
   ]
  },
  {
   "cell_type": "code",
   "execution_count": 14,
   "id": "d661dffa-a873-40d4-8b3a-a4612be0288f",
   "metadata": {},
   "outputs": [
    {
     "data": {
      "text/plain": [
       "Name         1\n",
       "Team         1\n",
       "Number       1\n",
       "Position     1\n",
       "Age          1\n",
       "Height       1\n",
       "Weight       1\n",
       "College      0\n",
       "Salary      12\n",
       "dtype: int64"
      ]
     },
     "execution_count": 14,
     "metadata": {},
     "output_type": "execute_result"
    }
   ],
   "source": [
    "df.isnull().sum()"
   ]
  },
  {
   "cell_type": "code",
   "execution_count": 15,
   "id": "c36ea5ea-bcf7-4b65-8caf-75ca9f88fa45",
   "metadata": {},
   "outputs": [
    {
     "data": {
      "text/plain": [
       "College\n",
       "Kentucky           107\n",
       "Duke                20\n",
       "Kansas              18\n",
       "North Carolina      16\n",
       "UCLA                15\n",
       "                  ... \n",
       "Utah Valley          1\n",
       "Cleveland State      1\n",
       "Iowa State           1\n",
       "Florida State        1\n",
       "Baylor               1\n",
       "Name: count, Length: 118, dtype: int64"
      ]
     },
     "execution_count": 15,
     "metadata": {},
     "output_type": "execute_result"
    }
   ],
   "source": [
    "df['College'].value_counts()"
   ]
  },
  {
   "cell_type": "code",
   "execution_count": 20,
   "id": "0447d97d-f776-413f-a79a-8a5dd0492bd9",
   "metadata": {},
   "outputs": [],
   "source": [
    "df['Salary'] = df['Salary'].fillna(df['Salary'].mean())"
   ]
  },
  {
   "cell_type": "code",
   "execution_count": 21,
   "id": "fd8a48a8-c303-45c5-b256-6eaa3dd8c7f9",
   "metadata": {},
   "outputs": [
    {
     "data": {
      "text/plain": [
       "Name        1\n",
       "Team        1\n",
       "Number      1\n",
       "Position    1\n",
       "Age         1\n",
       "Height      1\n",
       "Weight      1\n",
       "College     0\n",
       "Salary      0\n",
       "dtype: int64"
      ]
     },
     "execution_count": 21,
     "metadata": {},
     "output_type": "execute_result"
    }
   ],
   "source": [
    "df.isnull().sum()"
   ]
  },
  {
   "cell_type": "code",
   "execution_count": 22,
   "id": "245c72b3-ce0e-4635-857e-0402aadf1222",
   "metadata": {},
   "outputs": [],
   "source": [
    "df.dropna(inplace = True)"
   ]
  },
  {
   "cell_type": "code",
   "execution_count": 24,
   "id": "9e6d7ce9-3e1d-4bed-9003-a63fee82367b",
   "metadata": {},
   "outputs": [
    {
     "data": {
      "text/plain": [
       "Name        0\n",
       "Team        0\n",
       "Number      0\n",
       "Position    0\n",
       "Age         0\n",
       "Height      0\n",
       "Weight      0\n",
       "College     0\n",
       "Salary      0\n",
       "dtype: int64"
      ]
     },
     "execution_count": 24,
     "metadata": {},
     "output_type": "execute_result"
    }
   ],
   "source": [
    "df.isnull().sum()"
   ]
  },
  {
   "cell_type": "code",
   "execution_count": 39,
   "id": "af233e41-7544-492f-8c88-644ad5e0fcda",
   "metadata": {},
   "outputs": [
    {
     "data": {
      "text/plain": [
       "2"
      ]
     },
     "execution_count": 39,
     "metadata": {},
     "output_type": "execute_result"
    }
   ],
   "source": [
    "df.ndim"
   ]
  },
  {
   "cell_type": "code",
   "execution_count": 40,
   "id": "31533ba9-9b80-43e0-b664-1a38fb1494a8",
   "metadata": {},
   "outputs": [
    {
     "data": {
      "text/plain": [
       "(457, 10)"
      ]
     },
     "execution_count": 40,
     "metadata": {},
     "output_type": "execute_result"
    }
   ],
   "source": [
    "df.shape"
   ]
  },
  {
   "cell_type": "code",
   "execution_count": 41,
   "id": "f16443b9-9f46-4b22-97db-5f16337d59ef",
   "metadata": {},
   "outputs": [],
   "source": [
    "from sklearn.preprocessing import LabelEncoder"
   ]
  },
  {
   "cell_type": "code",
   "execution_count": 43,
   "id": "646d2533-7369-4578-896c-bf86b71e552e",
   "metadata": {},
   "outputs": [],
   "source": [
    "le = LabelEncoder()"
   ]
  },
  {
   "cell_type": "code",
   "execution_count": 44,
   "id": "9b88492d-0204-4670-b37e-abe337524788",
   "metadata": {},
   "outputs": [],
   "source": [
    "df['College'] = le.fit_transform(df['College'])"
   ]
  },
  {
   "cell_type": "code",
   "execution_count": 47,
   "id": "fa5ec1b8-485f-48d6-bb16-e70830c64d6f",
   "metadata": {},
   "outputs": [
    {
     "data": {
      "text/html": [
       "<div>\n",
       "<style scoped>\n",
       "    .dataframe tbody tr th:only-of-type {\n",
       "        vertical-align: middle;\n",
       "    }\n",
       "\n",
       "    .dataframe tbody tr th {\n",
       "        vertical-align: top;\n",
       "    }\n",
       "\n",
       "    .dataframe thead th {\n",
       "        text-align: right;\n",
       "    }\n",
       "</style>\n",
       "<table border=\"1\" class=\"dataframe\">\n",
       "  <thead>\n",
       "    <tr style=\"text-align: right;\">\n",
       "      <th></th>\n",
       "      <th>Name</th>\n",
       "      <th>Team</th>\n",
       "      <th>Number</th>\n",
       "      <th>Position</th>\n",
       "      <th>Age</th>\n",
       "      <th>Height</th>\n",
       "      <th>Weight</th>\n",
       "      <th>College</th>\n",
       "      <th>Salary</th>\n",
       "      <th>Height_cm</th>\n",
       "    </tr>\n",
       "  </thead>\n",
       "  <tbody>\n",
       "    <tr>\n",
       "      <th>0</th>\n",
       "      <td>Avery Bradley</td>\n",
       "      <td>Boston Celtics</td>\n",
       "      <td>0</td>\n",
       "      <td>PG</td>\n",
       "      <td>25.0</td>\n",
       "      <td>6'2</td>\n",
       "      <td>180.0</td>\n",
       "      <td>93</td>\n",
       "      <td>7.730337e+06</td>\n",
       "      <td>187.96</td>\n",
       "    </tr>\n",
       "    <tr>\n",
       "      <th>1</th>\n",
       "      <td>Jae Crowder</td>\n",
       "      <td>Boston Celtics</td>\n",
       "      <td>99</td>\n",
       "      <td>SF</td>\n",
       "      <td>25.0</td>\n",
       "      <td>6'6</td>\n",
       "      <td>235.0</td>\n",
       "      <td>52</td>\n",
       "      <td>6.796117e+06</td>\n",
       "      <td>198.12</td>\n",
       "    </tr>\n",
       "    <tr>\n",
       "      <th>2</th>\n",
       "      <td>John Holland</td>\n",
       "      <td>Boston Celtics</td>\n",
       "      <td>30</td>\n",
       "      <td>SG</td>\n",
       "      <td>27.0</td>\n",
       "      <td>6'5</td>\n",
       "      <td>205.0</td>\n",
       "      <td>8</td>\n",
       "      <td>4.842684e+06</td>\n",
       "      <td>195.58</td>\n",
       "    </tr>\n",
       "    <tr>\n",
       "      <th>3</th>\n",
       "      <td>R.J. Hunter</td>\n",
       "      <td>Boston Celtics</td>\n",
       "      <td>28</td>\n",
       "      <td>SG</td>\n",
       "      <td>22.0</td>\n",
       "      <td>6'5</td>\n",
       "      <td>185.0</td>\n",
       "      <td>33</td>\n",
       "      <td>1.148640e+06</td>\n",
       "      <td>195.58</td>\n",
       "    </tr>\n",
       "    <tr>\n",
       "      <th>4</th>\n",
       "      <td>Jonas Jerebko</td>\n",
       "      <td>Boston Celtics</td>\n",
       "      <td>8</td>\n",
       "      <td>PF</td>\n",
       "      <td>29.0</td>\n",
       "      <td>6'10</td>\n",
       "      <td>231.0</td>\n",
       "      <td>45</td>\n",
       "      <td>5.000000e+06</td>\n",
       "      <td>208.28</td>\n",
       "    </tr>\n",
       "  </tbody>\n",
       "</table>\n",
       "</div>"
      ],
      "text/plain": [
       "            Name            Team  Number Position   Age Height  Weight  \\\n",
       "0  Avery Bradley  Boston Celtics       0       PG  25.0    6'2   180.0   \n",
       "1    Jae Crowder  Boston Celtics      99       SF  25.0    6'6   235.0   \n",
       "2   John Holland  Boston Celtics      30       SG  27.0    6'5   205.0   \n",
       "3    R.J. Hunter  Boston Celtics      28       SG  22.0    6'5   185.0   \n",
       "4  Jonas Jerebko  Boston Celtics       8       PF  29.0   6'10   231.0   \n",
       "\n",
       "   College        Salary  Height_cm  \n",
       "0       93  7.730337e+06     187.96  \n",
       "1       52  6.796117e+06     198.12  \n",
       "2        8  4.842684e+06     195.58  \n",
       "3       33  1.148640e+06     195.58  \n",
       "4       45  5.000000e+06     208.28  "
      ]
     },
     "execution_count": 47,
     "metadata": {},
     "output_type": "execute_result"
    }
   ],
   "source": [
    "df.head()"
   ]
  },
  {
   "cell_type": "code",
   "execution_count": 46,
   "id": "e80167b0-1e99-4a83-ad50-0ee1c0321d62",
   "metadata": {},
   "outputs": [
    {
     "data": {
      "text/plain": [
       "array(['Texas', 'Marquette', 'Boston University', 'Georgia State',\n",
       "       'Kentucky', 'Kentucky', 'LSU', 'Gonzaga', 'Louisville',\n",
       "       'Oklahoma State', 'Ohio State', 'Washington', 'Ohio State',\n",
       "       'Kentucky', 'North Carolina', 'Kentucky', 'Oklahoma State',\n",
       "       'North Carolina', 'Arizona', 'Georgia Tech', 'Kentucky',\n",
       "       'Cincinnati', 'Miami (FL)', 'Stanford', 'Syracuse', 'Saint Louis',\n",
       "       'Kansas', 'Georgetown', 'Texas A&M', 'Georgia Tech', 'UCLA',\n",
       "       'UNLV', 'Kentucky', 'Syracuse', 'Kentucky', 'Wichita State',\n",
       "       \"Saint Joseph's\", 'Notre Dame', 'Stanford', 'Norfolk State',\n",
       "       'Kentucky', 'Kentucky', 'Duke', 'Kentucky', 'Arizona',\n",
       "       'Washington', 'Duke', 'Murray State', 'Tennessee State', 'Kansas',\n",
       "       'Syracuse', 'Bowling Green', 'Purdue', 'North Carolina', 'Arizona',\n",
       "       'Kentucky', 'Duke', 'Wake Forest', 'Michigan', 'Georgetown',\n",
       "       'UNLV', 'Kentucky', 'Kentucky', 'Missouri', 'USC', 'Wake Forest',\n",
       "       'Texas', 'Villanova', 'Kentucky', 'Kentucky', 'UCLA', 'Washington',\n",
       "       'Kentucky', 'Rider', 'Kentucky', 'Utah', 'Kentucky',\n",
       "       'North Carolina', 'Utah', 'Belmont', 'Davidson', 'Vanderbilt',\n",
       "       'Michigan State', 'Arizona', 'Kentucky', 'UCLA', 'North Carolina',\n",
       "       'Kansas', 'Florida', 'Washington State', 'Kentucky', 'Kansas',\n",
       "       'Arizona State', 'Michigan', 'Michigan State', 'Georgetown',\n",
       "       'Oklahoma', 'Syracuse', 'Texas A&M', 'UCLA', 'Wake Forest',\n",
       "       'Kansas', 'Kentucky', 'Duke', 'Duke', 'Washington', 'LSU',\n",
       "       'Kansas', 'Stanford', 'Kentucky', 'Missouri', 'Georgetown',\n",
       "       'Kentucky', 'Duke', 'Wyoming', 'Kentucky', 'Ohio State', 'Gonzaga',\n",
       "       'Kentucky', \"St. John's\", 'USC', 'Kentucky', 'Kentucky', 'Arizona',\n",
       "       'Kentucky', 'Kentucky', 'Vanderbilt', 'Kentucky', 'Maryland',\n",
       "       'Wisconsin', 'Missouri', 'Utah Valley', 'Kentucky', 'Texas',\n",
       "       'North Carolina State', 'UC Santa Barbara', 'Baylor',\n",
       "       'Oklahoma State', 'Kentucky', 'Connecticut', 'Kentucky',\n",
       "       'Kentucky', 'UCLA', 'Kentucky', 'Duke', 'Wisconsin', 'Connecticut',\n",
       "       'Ohio State', 'Kansas', 'Oregon State', 'Kentucky', 'New Mexico',\n",
       "       'Oregon', 'Marquette', 'Duke', 'Kentucky', 'Kentucky', 'USC',\n",
       "       'Washington', 'Creighton', 'Kentucky', 'Purdue', 'Florida',\n",
       "       'Arkansas', 'Memphis', 'New Mexico', \"Saint Mary's\", 'Arizona',\n",
       "       'Duke', 'Kentucky', 'Arizona', 'Duke', 'Miami (FL)', 'Kansas',\n",
       "       'UCLA', 'Tennessee', 'Kentucky', 'Georgia Tech', 'Kentucky',\n",
       "       'Texas', 'Alabama', 'UNLV', 'Washington State', 'Maryland',\n",
       "       'North Carolina State', 'North Carolina', 'Georgia', 'Colorado',\n",
       "       'Connecticut', 'Tennessee', 'Villanova', 'Boston College',\n",
       "       'Arizona', 'Kentucky', 'Kansas', 'Creighton', 'Temple', 'Syracuse',\n",
       "       'Kentucky', 'Fresno State', 'IUPUI', 'Arizona', 'Arizona',\n",
       "       'North Carolina', 'Kentucky', 'Kentucky', 'Michigan',\n",
       "       'Eastern Washington', 'Texas', 'Western Michigan', 'Oregon',\n",
       "       'Kentucky', 'Arizona', 'Syracuse', 'Oregon State', 'Syracuse',\n",
       "       'North Carolina', 'Kentucky', 'USC', 'Texas A&M', 'Georgetown',\n",
       "       'Marquette', 'LSU', 'Duke', 'Duke', 'Maryland', 'UNLV', 'Virginia',\n",
       "       'Northeastern', 'Western Kentucky', 'North Carolina', 'Wisconsin',\n",
       "       'Florida', 'Marquette', 'Nevada', 'Kentucky', 'Kentucky',\n",
       "       'Kentucky', 'Florida', 'Stanford', 'Connecticut', 'Illinois',\n",
       "       'UCLA', 'Kansas State', 'Arkansas', 'Florida', 'Kentucky',\n",
       "       'Wisconsin', 'Charleston', 'Arizona State', 'Louisville',\n",
       "       'Kentucky', 'Kentucky', 'Clemson', 'Kentucky', 'Kentucky',\n",
       "       'Arizona', 'UCLA', 'Oklahoma State', 'Blinn College', 'UCLA',\n",
       "       'North Carolina', 'Ohio State', 'Providence', 'UCLA', 'Kentucky',\n",
       "       'Alabama', 'North Carolina', 'LSU', 'Detroit', 'Rhode Island',\n",
       "       'Michigan State', 'Cincinnati', 'USC', 'North Carolina',\n",
       "       'Kentucky', 'California', 'Kentucky', 'Nevada', 'Cleveland State',\n",
       "       'Villanova', 'Kentucky', 'Iowa State', 'Florida State',\n",
       "       'Long Beach State', 'Memphis', 'Penn State', 'Alabama', 'Indiana',\n",
       "       'Texas', 'UCLA', 'UC Santa Barbara', 'Kentucky', 'Washington',\n",
       "       'Texas', 'UCLA', 'Florida', 'Kentucky', 'Wake Forest', 'Kentucky',\n",
       "       'North Carolina', 'San Diego State', 'Kentucky',\n",
       "       'Western Carolina', 'Utah', \"Saint Mary's\", 'Kentucky', 'Houston',\n",
       "       'Xavier', 'Old Dominion', 'Michigan', 'Kansas', 'Florida',\n",
       "       'Minnesota', 'Creighton', 'Louisiana Tech', 'Bucknell',\n",
       "       'Pittsburgh', 'Kentucky', 'Virginia', 'Kentucky', 'Kentucky',\n",
       "       'Kentucky', 'Wake Forest', 'Kentucky', 'Virginia Commonwealth',\n",
       "       'California', 'North Carolina', 'Kentucky', 'Washington',\n",
       "       'Kentucky', 'Wisconsin', 'Kentucky', 'Connecticut',\n",
       "       'Western Kentucky', 'Harvard', 'Connecticut', 'North Carolina',\n",
       "       'Indiana', 'Georgia Tech', 'Duke', 'Kentucky', 'Kentucky',\n",
       "       'Florida', 'Arkansas', 'Fresno State', 'Duke', 'Tennessee',\n",
       "       'Kentucky', 'Marquette', 'Virginia Commonwealth', 'Marshall',\n",
       "       'Duke', 'Kentucky', 'USC', 'Kentucky', 'Arizona', 'Kentucky',\n",
       "       'Kentucky', 'Kentucky', 'Iowa', 'Connecticut', 'St. Bonaventure',\n",
       "       'Indiana', 'Louisiana-Lafayette', 'Colorado State', 'USC',\n",
       "       'Tennessee', 'Michigan State', 'Florida', 'Boston College',\n",
       "       'Virginia Tech', 'Kansas', 'Kentucky', 'North Carolina State',\n",
       "       'Kentucky', 'Kansas', 'Kansas', 'Georgetown', 'Nevada', 'LSU',\n",
       "       'LSU', 'Kentucky', 'Kansas', 'Texas', 'Memphis', 'DePaul',\n",
       "       'Morehead State', 'Kentucky', 'Michigan State', 'Kentucky',\n",
       "       'Kentucky', 'Florida', 'Kentucky', \"Saint Joseph's\", 'Kentucky',\n",
       "       \"St. John's\", 'Kentucky', 'Kentucky', 'Louisville', 'Kentucky',\n",
       "       'Duke', 'UCLA', 'UCLA', 'Michigan State', 'Kentucky', 'Kentucky',\n",
       "       'Kentucky', 'Kentucky', 'Fresno State', 'Kentucky', 'Kansas',\n",
       "       'Pittsburgh', 'Kansas', 'Texas', 'Villanova', 'Stanford',\n",
       "       'Kentucky', 'Kentucky', 'Michigan', 'Kentucky', 'Georgia Tech',\n",
       "       'Murray State', 'Colorado', 'Duke', 'Syracuse', 'UCLA', 'Kansas',\n",
       "       'Wake Forest', 'Notre Dame', 'California', 'North Carolina',\n",
       "       \"St. John's\", 'Duke', 'Central Michigan', 'Illinois',\n",
       "       'Weber State', 'Lehigh', 'Westchester CC', 'Duke', 'Dayton',\n",
       "       'Indiana', 'Clemson', 'Michigan', 'Colorado', 'Kentucky',\n",
       "       'Georgia Tech', 'Kentucky', 'Butler', 'Duke', 'Kentucky', 'Dayton',\n",
       "       'Kentucky', 'Butler', 'Kentucky', 'Kentucky', 'Kansas'],\n",
       "      dtype=object)"
      ]
     },
     "execution_count": 46,
     "metadata": {},
     "output_type": "execute_result"
    }
   ],
   "source": [
    "le.inverse_transform(df['College'])"
   ]
  },
  {
   "cell_type": "code",
   "execution_count": null,
   "id": "26d7f4db-3c6a-4c4d-a214-5174bf249753",
   "metadata": {},
   "outputs": [],
   "source": []
  }
 ],
 "metadata": {
  "kernelspec": {
   "display_name": "Python 3 (ipykernel)",
   "language": "python",
   "name": "python3"
  },
  "language_info": {
   "codemirror_mode": {
    "name": "ipython",
    "version": 3
   },
   "file_extension": ".py",
   "mimetype": "text/x-python",
   "name": "python",
   "nbconvert_exporter": "python",
   "pygments_lexer": "ipython3",
   "version": "3.12.5"
  }
 },
 "nbformat": 4,
 "nbformat_minor": 5
}
