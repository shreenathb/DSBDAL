{
 "cells": [
  {
   "cell_type": "code",
   "execution_count": 1,
   "id": "da2a985b-c6e5-4cef-8a63-b9afeb050e52",
   "metadata": {},
   "outputs": [],
   "source": [
    "import pandas as pd\n",
    "import numpy as np"
   ]
  },
  {
   "cell_type": "code",
   "execution_count": 2,
   "id": "9fadd04f-e581-4d28-95f1-a31e18b8bb72",
   "metadata": {},
   "outputs": [],
   "source": [
    "import nltk"
   ]
  },
  {
   "cell_type": "code",
   "execution_count": 3,
   "id": "60bfdebf-6948-453e-ab23-1012bc8bf56c",
   "metadata": {},
   "outputs": [],
   "source": [
    "p1='''Pune Institute of Computer Technology (PICT) was established in 1983 by a group of enterprising visionary professionals and has come a long way and marched ahead with quality education imbibed with professional and ethical values. Our mission is to be the most sought-after institute in Engineering education and research, that provides relevant knowledge, creates challenging opportunities, and inculcate values and social responsibilities. Pune Institute of Computer Technology has cut niche for itself to be one of the India’s leading institutions in higher Technical Education and Research of International repute. We celebrate the illustrious accomplishments of the past and take pride in our position as one of the top institutions of our country.\n",
    "\n",
    "At PICT, talent and ambitions come together in a culture that nourishes thinking and encourages every student to reach his or her full potential. Life at PICT is much more than the regular academic activities.  PICT campus is technically vibrant with lot of activities throughout the year, supported by professional societies like IEEE, ACM, CSI, IET. Additionally, there are clubs/groups like ROBOCON, DRONE, SIGs, BUDDYs, Automobile (electric Racing Cart), Debate, TEDx, MUN, etc. The PICT art circle is one of the top cultural groups known for its talents & achievements. The activities include but not limited to: Art, Drama, Debate, Dance, Singing, & quizzes. Our students have bagged many prestigious awards, prizes, & medals in technical, sports, and cultural events (like Microsoft Imagine Cup, Hackathons, Robocon, Purushottam Karandak, Firodiya Karandak). The students of PICT are the top achievers with big dreams and fierce drive. They are pushed to expand their thinking not only by their professors but also by the extraordinary individuals who are their peers. We wish that the student entering our institute will become holistic, responsible person contributing not only to the technocratic demands of the world but also for the betterment of the society. PICT offers three under-graduate programs in Computer Engineering, Electronics & Telecommunication Engineering, and Information Technology; and four post-graduate programs in Computer Engineering, Data Science, Electronics & Telecommunication Engineering (Wireless Communication Technology), and Information Technology. It is also a Savitribai Phule Pune University recognized research center in Computer Engineering and Electronics & Telecommunication Engineering.\n",
    "\n",
    "PICT Campus houses more than 3500+ students & 240+ Staff. The academic results of PICT are the best among all the colleges affiliated to Savitribai Phule University (SPPU). It’s heartening to know that 326 students secured SGPA of 10/10 in SPPU FE 1st Semester examination & 100% pass percentage, most of them getting distinctions. In the Final year examination (BE), the result is almost 100%, most of them securing distinction. The Placement record is excellent with an average salary of 10.5 LPA & the highest annual package of 41 Lakh, despite of the COVID-19 disruption. One of our students got selected as a software development engineer with a Package of 1.12 Crore. Almost all top-notch companies visit PICT for campus recruitment.\n",
    "\n",
    "The faculty members have undertaken research projects funded by DST, AICTE, DRDO, SPPU, etc. We have received significant consultancy work from the industry. The number of quality Publications, Patents, and Product development has also increased significantly. The Entrepreneurship Development Cell (EDC) and Startup & Innovation Cell (SIC) inculcate research culture and enterprising skills among the students and faculty by building a sustainable entrepreneurial & research ecosystem. They empower young talented minds to transform their finding, research, & innovative ideas into a product or service that creates value.\n",
    "\n",
    "The current scenario at the local, national, and international levels is intense competition with equal opportunity for all. PICT provides a student-centered learning environment with close student-faculty interaction and constant participation in the industry. Through periodic seminars, symposia, workshops, and industry visits as an integral part of the course, the students are equipped with technical knowledge, critical thinking skills, and creativity to excel in the engineering profession. Alongside, technology fairs, college carnivals, sports summits, and other such co-curricular and extra-curricular events also constitute an important part of life at PICT. I take this opportunity to appreciate the commendable job of our staff & students by adapting a new & innovate ICT-based online teaching-learning model during this challenging period of new normal.\n",
    "\n",
    "I, along with the entire PICT family, take this opportunity to thank all the stakeholders (true Brand Ambassadors/Partners) for showing solidarity and continuous support in achieving a pioneering position over the last five decades. Let me assure you that PICT will provide you with the best combination of skills, knowledge, & teamwork (not neglecting “attitude”), to succeed in your chosen career field and will equip the students with the professional acumen that will help them to meet the challenges of the modern industrial & service work environment.\n",
    " Finally, I extend my best wishes to all my student friends for an exciting and rewarding, challenging, and stimulating, four years on this campus & a bright future thereafter.'''\n",
    "p2='''It gives me immense pleasure in welcoming you to SCTR’s Pune Institute of Computer Technology, a premier and a very reputed institute. Pune Institute of Computer Technology, popularly known as PICT, was established in 1983, by a group of great visionaries, Late Mr. Dr. N. Gopalkrishnan, Mr. N. Rama Krishnan and Managing Trustee Mr. Rajkumar Kothavale. The ingenious founder team and Secretary Mr. Swastik Sir continue to lead PICT in its journey of excellence.\n",
    "\n",
    "PICT, affiliated to Savitribai Phule Pune University is a pioneer in introducing Computer Engineering undergraduate program in Maharashtra state and it is recognized as the most sought-after institution, to educate young aspiring minds.\n",
    "\n",
    "PICT offers Quality Education in Engineering and Research through its undergraduate, post graduate programs in CE, E&TC and IT and its research centres in CE and E&TC department. The undergraduate programmes are consistently accredited by National Board of Accreditation (NBA). The institution is also accredited by National Assessment Accreditation Council (NAAC) and is ISO 9001:2015 certified. It is graded ‘A’ by Director of Technical Education (DTE), Maharashtra state.\n",
    "\n",
    "“Scientists study the world as it is, engineers create the world that never has been.” — Theodore von Karman\n",
    "\n",
    "With a very Visionary Management, Dedicated Director, and committed faculty members, entire PICT Family strives to nurture the young inspiring minds to create avenues for the wellbeing of the entire world. Untiring and directed efforts by PICT are focused on out-come based education and preparing them for the real world.\n",
    "\n",
    "The promotive culture and supportive ecosystem of PICT ensures excellent academic record of the students and drives their participation in numerous Co-Curricular and Extra-curricular activities. Beginning with flagship event of PICT- Impetus and Concepts, the student participation extends to various clubs and special interest groups, inculcating team spirit, professionalism, ethics, values and self-competitiveness among the students, thus, moulding them be better versions of themselves.\n",
    "\n",
    "PICT has strong industry institute interaction to bridge the industry -academia gap by providing the student fraternity with the desirous exposure to the industrial cultural. Extra-ordinary opportunities of Placement with outstanding track record (qualitative and quantitative) makes PICT the most preferred learning hub. Several multinational and dream companies visit the campus for placement and internship opportunities. The institute caters to the diverse interests and ambitions of the students like entrepreneurship through its Start-up & Innovation Cell and Entrepreneurship Development Cell.\n",
    "\n",
    "Faculty at PICT is a synergetic team of experienced and qualified minds. They are actively involved in research & development, product development and consultancy. They have fetched several grants from various funding agencies. This has also further helped student community to sharpen their research aptitudes and attitudes along with academic excellence, helping them in overall professional growth.\n",
    "\n",
    "We, at PICT have excellent faculty, state-of- the-art infrastructure and laboratories. Spacious green campus, well stalked library and peaceful atmosphere that ensures wonderful learning.\n",
    "\n",
    "Dear young friends, I am confident that your journey in PICT is undoubtedly, going the be the most rewarding, lifetime experience. So, make the best of your time, work hard & smart for your growth.\n",
    "\n",
    "I once again Welcome all the young buddy minds - our future leaders to “PICT Family” and wish them success ahead.\n",
    "\n",
    "'''\n"
   ]
  },
  {
   "cell_type": "code",
   "execution_count": 4,
   "id": "595f358b-2682-4775-a363-855a16a2048f",
   "metadata": {},
   "outputs": [],
   "source": [
    "from nltk import word_tokenize, sent_tokenize"
   ]
  },
  {
   "cell_type": "code",
   "execution_count": 7,
   "id": "28fd247f-3fd6-461d-8f09-283f18f85f6a",
   "metadata": {},
   "outputs": [
    {
     "name": "stderr",
     "output_type": "stream",
     "text": [
      "[nltk_data] Downloading package punkt_tab to\n",
      "[nltk_data]     /Users/shreenath/nltk_data...\n",
      "[nltk_data]   Unzipping tokenizers/punkt_tab.zip.\n"
     ]
    },
    {
     "data": {
      "text/plain": [
       "True"
      ]
     },
     "execution_count": 7,
     "metadata": {},
     "output_type": "execute_result"
    }
   ],
   "source": [
    "nltk.download('punkt_tab')"
   ]
  },
  {
   "cell_type": "code",
   "execution_count": 8,
   "id": "d95f55b6-a833-4f68-b362-96701ed51b50",
   "metadata": {},
   "outputs": [],
   "source": [
    "data = [p1, p2]"
   ]
  },
  {
   "cell_type": "code",
   "execution_count": 9,
   "id": "922a151f-8e29-4814-ba11-4747cffeb247",
   "metadata": {},
   "outputs": [
    {
     "name": "stdout",
     "output_type": "stream",
     "text": [
      "['Pune Institute of Computer Technology (PICT) was established in 1983 by a group of enterprising visionary professionals and has come a long way and marched ahead with quality education imbibed with professional and ethical values.', 'Our mission is to be the most sought-after institute in Engineering education and research, that provides relevant knowledge, creates challenging opportunities, and inculcate values and social responsibilities.', 'Pune Institute of Computer Technology has cut niche for itself to be one of the India’s leading institutions in higher Technical Education and Research of International repute.', 'We celebrate the illustrious accomplishments of the past and take pride in our position as one of the top institutions of our country.', 'At PICT, talent and ambitions come together in a culture that nourishes thinking and encourages every student to reach his or her full potential.', 'Life at PICT is much more than the regular academic activities.', 'PICT campus is technically vibrant with lot of activities throughout the year, supported by professional societies like IEEE, ACM, CSI, IET.', 'Additionally, there are clubs/groups like ROBOCON, DRONE, SIGs, BUDDYs, Automobile (electric Racing Cart), Debate, TEDx, MUN, etc.', 'The PICT art circle is one of the top cultural groups known for its talents & achievements.', 'The activities include but not limited to: Art, Drama, Debate, Dance, Singing, & quizzes.', 'Our students have bagged many prestigious awards, prizes, & medals in technical, sports, and cultural events (like Microsoft Imagine Cup, Hackathons, Robocon, Purushottam Karandak, Firodiya Karandak).', 'The students of PICT are the top achievers with big dreams and fierce drive.', 'They are pushed to expand their thinking not only by their professors but also by the extraordinary individuals who are their peers.', 'We wish that the student entering our institute will become holistic, responsible person contributing not only to the technocratic demands of the world but also for the betterment of the society.', 'PICT offers three under-graduate programs in Computer Engineering, Electronics & Telecommunication Engineering, and Information Technology; and four post-graduate programs in Computer Engineering, Data Science, Electronics & Telecommunication Engineering (Wireless Communication Technology), and Information Technology.', 'It is also a Savitribai Phule Pune University recognized research center in Computer Engineering and Electronics & Telecommunication Engineering.', 'PICT Campus houses more than 3500+ students & 240+ Staff.', 'The academic results of PICT are the best among all the colleges affiliated to Savitribai Phule University (SPPU).', 'It’s heartening to know that 326 students secured SGPA of 10/10 in SPPU FE 1st Semester examination & 100% pass percentage, most of them getting distinctions.', 'In the Final year examination (BE), the result is almost 100%, most of them securing distinction.', 'The Placement record is excellent with an average salary of 10.5 LPA & the highest annual package of 41 Lakh, despite of the COVID-19 disruption.', 'One of our students got selected as a software development engineer with a Package of 1.12 Crore.', 'Almost all top-notch companies visit PICT for campus recruitment.', 'The faculty members have undertaken research projects funded by DST, AICTE, DRDO, SPPU, etc.', 'We have received significant consultancy work from the industry.', 'The number of quality Publications, Patents, and Product development has also increased significantly.', 'The Entrepreneurship Development Cell (EDC) and Startup & Innovation Cell (SIC) inculcate research culture and enterprising skills among the students and faculty by building a sustainable entrepreneurial & research ecosystem.', 'They empower young talented minds to transform their finding, research, & innovative ideas into a product or service that creates value.', 'The current scenario at the local, national, and international levels is intense competition with equal opportunity for all.', 'PICT provides a student-centered learning environment with close student-faculty interaction and constant participation in the industry.', 'Through periodic seminars, symposia, workshops, and industry visits as an integral part of the course, the students are equipped with technical knowledge, critical thinking skills, and creativity to excel in the engineering profession.', 'Alongside, technology fairs, college carnivals, sports summits, and other such co-curricular and extra-curricular events also constitute an important part of life at PICT.', 'I take this opportunity to appreciate the commendable job of our staff & students by adapting a new & innovate ICT-based online teaching-learning model during this challenging period of new normal.', 'I, along with the entire PICT family, take this opportunity to thank all the stakeholders (true Brand Ambassadors/Partners) for showing solidarity and continuous support in achieving a pioneering position over the last five decades.', 'Let me assure you that PICT will provide you with the best combination of skills, knowledge, & teamwork (not neglecting “attitude”), to succeed in your chosen career field and will equip the students with the professional acumen that will help them to meet the challenges of the modern industrial & service work environment.', 'Finally, I extend my best wishes to all my student friends for an exciting and rewarding, challenging, and stimulating, four years on this campus & a bright future thereafter.']\n",
      "['It gives me immense pleasure in welcoming you to SCTR’s Pune Institute of Computer Technology, a premier and a very reputed institute.', 'Pune Institute of Computer Technology, popularly known as PICT, was established in 1983, by a group of great visionaries, Late Mr. Dr. N. Gopalkrishnan, Mr. N. Rama Krishnan and Managing Trustee Mr. Rajkumar Kothavale.', 'The ingenious founder team and Secretary Mr. Swastik Sir continue to lead PICT in its journey of excellence.', 'PICT, affiliated to Savitribai Phule Pune University is a pioneer in introducing Computer Engineering undergraduate program in Maharashtra state and it is recognized as the most sought-after institution, to educate young aspiring minds.', 'PICT offers Quality Education in Engineering and Research through its undergraduate, post graduate programs in CE, E&TC and IT and its research centres in CE and E&TC department.', 'The undergraduate programmes are consistently accredited by National Board of Accreditation (NBA).', 'The institution is also accredited by National Assessment Accreditation Council (NAAC) and is ISO 9001:2015 certified.', 'It is graded ‘A’ by Director of Technical Education (DTE), Maharashtra state.', '“Scientists study the world as it is, engineers create the world that never has been.” — Theodore von Karman\\n\\nWith a very Visionary Management, Dedicated Director, and committed faculty members, entire PICT Family strives to nurture the young inspiring minds to create avenues for the wellbeing of the entire world.', 'Untiring and directed efforts by PICT are focused on out-come based education and preparing them for the real world.', 'The promotive culture and supportive ecosystem of PICT ensures excellent academic record of the students and drives their participation in numerous Co-Curricular and Extra-curricular activities.', 'Beginning with flagship event of PICT- Impetus and Concepts, the student participation extends to various clubs and special interest groups, inculcating team spirit, professionalism, ethics, values and self-competitiveness among the students, thus, moulding them be better versions of themselves.', 'PICT has strong industry institute interaction to bridge the industry -academia gap by providing the student fraternity with the desirous exposure to the industrial cultural.', 'Extra-ordinary opportunities of Placement with outstanding track record (qualitative and quantitative) makes PICT the most preferred learning hub.', 'Several multinational and dream companies visit the campus for placement and internship opportunities.', 'The institute caters to the diverse interests and ambitions of the students like entrepreneurship through its Start-up & Innovation Cell and Entrepreneurship Development Cell.', 'Faculty at PICT is a synergetic team of experienced and qualified minds.', 'They are actively involved in research & development, product development and consultancy.', 'They have fetched several grants from various funding agencies.', 'This has also further helped student community to sharpen their research aptitudes and attitudes along with academic excellence, helping them in overall professional growth.', 'We, at PICT have excellent faculty, state-of- the-art infrastructure and laboratories.', 'Spacious green campus, well stalked library and peaceful atmosphere that ensures wonderful learning.', 'Dear young friends, I am confident that your journey in PICT is undoubtedly, going the be the most rewarding, lifetime experience.', 'So, make the best of your time, work hard & smart for your growth.', 'I once again Welcome all the young buddy minds - our future leaders to “PICT Family” and wish them success ahead.']\n",
      "['Pune', 'Institute', 'of', 'Computer', 'Technology', '(', 'PICT', ')', 'was', 'established', 'in', '1983', 'by', 'a', 'group', 'of', 'enterprising', 'visionary', 'professionals', 'and', 'has', 'come', 'a', 'long', 'way', 'and', 'marched', 'ahead', 'with', 'quality', 'education', 'imbibed', 'with', 'professional', 'and', 'ethical', 'values', '.', 'Our', 'mission', 'is', 'to', 'be', 'the', 'most', 'sought-after', 'institute', 'in', 'Engineering', 'education', 'and', 'research', ',', 'that', 'provides', 'relevant', 'knowledge', ',', 'creates', 'challenging', 'opportunities', ',', 'and', 'inculcate', 'values', 'and', 'social', 'responsibilities', '.', 'Pune', 'Institute', 'of', 'Computer', 'Technology', 'has', 'cut', 'niche', 'for', 'itself', 'to', 'be', 'one', 'of', 'the', 'India', '’', 's', 'leading', 'institutions', 'in', 'higher', 'Technical', 'Education', 'and', 'Research', 'of', 'International', 'repute', '.', 'We', 'celebrate', 'the', 'illustrious', 'accomplishments', 'of', 'the', 'past', 'and', 'take', 'pride', 'in', 'our', 'position', 'as', 'one', 'of', 'the', 'top', 'institutions', 'of', 'our', 'country', '.', 'At', 'PICT', ',', 'talent', 'and', 'ambitions', 'come', 'together', 'in', 'a', 'culture', 'that', 'nourishes', 'thinking', 'and', 'encourages', 'every', 'student', 'to', 'reach', 'his', 'or', 'her', 'full', 'potential', '.', 'Life', 'at', 'PICT', 'is', 'much', 'more', 'than', 'the', 'regular', 'academic', 'activities', '.', 'PICT', 'campus', 'is', 'technically', 'vibrant', 'with', 'lot', 'of', 'activities', 'throughout', 'the', 'year', ',', 'supported', 'by', 'professional', 'societies', 'like', 'IEEE', ',', 'ACM', ',', 'CSI', ',', 'IET', '.', 'Additionally', ',', 'there', 'are', 'clubs/groups', 'like', 'ROBOCON', ',', 'DRONE', ',', 'SIGs', ',', 'BUDDYs', ',', 'Automobile', '(', 'electric', 'Racing', 'Cart', ')', ',', 'Debate', ',', 'TEDx', ',', 'MUN', ',', 'etc', '.', 'The', 'PICT', 'art', 'circle', 'is', 'one', 'of', 'the', 'top', 'cultural', 'groups', 'known', 'for', 'its', 'talents', '&', 'achievements', '.', 'The', 'activities', 'include', 'but', 'not', 'limited', 'to', ':', 'Art', ',', 'Drama', ',', 'Debate', ',', 'Dance', ',', 'Singing', ',', '&', 'quizzes', '.', 'Our', 'students', 'have', 'bagged', 'many', 'prestigious', 'awards', ',', 'prizes', ',', '&', 'medals', 'in', 'technical', ',', 'sports', ',', 'and', 'cultural', 'events', '(', 'like', 'Microsoft', 'Imagine', 'Cup', ',', 'Hackathons', ',', 'Robocon', ',', 'Purushottam', 'Karandak', ',', 'Firodiya', 'Karandak', ')', '.', 'The', 'students', 'of', 'PICT', 'are', 'the', 'top', 'achievers', 'with', 'big', 'dreams', 'and', 'fierce', 'drive', '.', 'They', 'are', 'pushed', 'to', 'expand', 'their', 'thinking', 'not', 'only', 'by', 'their', 'professors', 'but', 'also', 'by', 'the', 'extraordinary', 'individuals', 'who', 'are', 'their', 'peers', '.', 'We', 'wish', 'that', 'the', 'student', 'entering', 'our', 'institute', 'will', 'become', 'holistic', ',', 'responsible', 'person', 'contributing', 'not', 'only', 'to', 'the', 'technocratic', 'demands', 'of', 'the', 'world', 'but', 'also', 'for', 'the', 'betterment', 'of', 'the', 'society', '.', 'PICT', 'offers', 'three', 'under-graduate', 'programs', 'in', 'Computer', 'Engineering', ',', 'Electronics', '&', 'Telecommunication', 'Engineering', ',', 'and', 'Information', 'Technology', ';', 'and', 'four', 'post-graduate', 'programs', 'in', 'Computer', 'Engineering', ',', 'Data', 'Science', ',', 'Electronics', '&', 'Telecommunication', 'Engineering', '(', 'Wireless', 'Communication', 'Technology', ')', ',', 'and', 'Information', 'Technology', '.', 'It', 'is', 'also', 'a', 'Savitribai', 'Phule', 'Pune', 'University', 'recognized', 'research', 'center', 'in', 'Computer', 'Engineering', 'and', 'Electronics', '&', 'Telecommunication', 'Engineering', '.', 'PICT', 'Campus', 'houses', 'more', 'than', '3500+', 'students', '&', '240+', 'Staff', '.', 'The', 'academic', 'results', 'of', 'PICT', 'are', 'the', 'best', 'among', 'all', 'the', 'colleges', 'affiliated', 'to', 'Savitribai', 'Phule', 'University', '(', 'SPPU', ')', '.', 'It', '’', 's', 'heartening', 'to', 'know', 'that', '326', 'students', 'secured', 'SGPA', 'of', '10/10', 'in', 'SPPU', 'FE', '1st', 'Semester', 'examination', '&', '100', '%', 'pass', 'percentage', ',', 'most', 'of', 'them', 'getting', 'distinctions', '.', 'In', 'the', 'Final', 'year', 'examination', '(', 'BE', ')', ',', 'the', 'result', 'is', 'almost', '100', '%', ',', 'most', 'of', 'them', 'securing', 'distinction', '.', 'The', 'Placement', 'record', 'is', 'excellent', 'with', 'an', 'average', 'salary', 'of', '10.5', 'LPA', '&', 'the', 'highest', 'annual', 'package', 'of', '41', 'Lakh', ',', 'despite', 'of', 'the', 'COVID-19', 'disruption', '.', 'One', 'of', 'our', 'students', 'got', 'selected', 'as', 'a', 'software', 'development', 'engineer', 'with', 'a', 'Package', 'of', '1.12', 'Crore', '.', 'Almost', 'all', 'top-notch', 'companies', 'visit', 'PICT', 'for', 'campus', 'recruitment', '.', 'The', 'faculty', 'members', 'have', 'undertaken', 'research', 'projects', 'funded', 'by', 'DST', ',', 'AICTE', ',', 'DRDO', ',', 'SPPU', ',', 'etc', '.', 'We', 'have', 'received', 'significant', 'consultancy', 'work', 'from', 'the', 'industry', '.', 'The', 'number', 'of', 'quality', 'Publications', ',', 'Patents', ',', 'and', 'Product', 'development', 'has', 'also', 'increased', 'significantly', '.', 'The', 'Entrepreneurship', 'Development', 'Cell', '(', 'EDC', ')', 'and', 'Startup', '&', 'Innovation', 'Cell', '(', 'SIC', ')', 'inculcate', 'research', 'culture', 'and', 'enterprising', 'skills', 'among', 'the', 'students', 'and', 'faculty', 'by', 'building', 'a', 'sustainable', 'entrepreneurial', '&', 'research', 'ecosystem', '.', 'They', 'empower', 'young', 'talented', 'minds', 'to', 'transform', 'their', 'finding', ',', 'research', ',', '&', 'innovative', 'ideas', 'into', 'a', 'product', 'or', 'service', 'that', 'creates', 'value', '.', 'The', 'current', 'scenario', 'at', 'the', 'local', ',', 'national', ',', 'and', 'international', 'levels', 'is', 'intense', 'competition', 'with', 'equal', 'opportunity', 'for', 'all', '.', 'PICT', 'provides', 'a', 'student-centered', 'learning', 'environment', 'with', 'close', 'student-faculty', 'interaction', 'and', 'constant', 'participation', 'in', 'the', 'industry', '.', 'Through', 'periodic', 'seminars', ',', 'symposia', ',', 'workshops', ',', 'and', 'industry', 'visits', 'as', 'an', 'integral', 'part', 'of', 'the', 'course', ',', 'the', 'students', 'are', 'equipped', 'with', 'technical', 'knowledge', ',', 'critical', 'thinking', 'skills', ',', 'and', 'creativity', 'to', 'excel', 'in', 'the', 'engineering', 'profession', '.', 'Alongside', ',', 'technology', 'fairs', ',', 'college', 'carnivals', ',', 'sports', 'summits', ',', 'and', 'other', 'such', 'co-curricular', 'and', 'extra-curricular', 'events', 'also', 'constitute', 'an', 'important', 'part', 'of', 'life', 'at', 'PICT', '.', 'I', 'take', 'this', 'opportunity', 'to', 'appreciate', 'the', 'commendable', 'job', 'of', 'our', 'staff', '&', 'students', 'by', 'adapting', 'a', 'new', '&', 'innovate', 'ICT-based', 'online', 'teaching-learning', 'model', 'during', 'this', 'challenging', 'period', 'of', 'new', 'normal', '.', 'I', ',', 'along', 'with', 'the', 'entire', 'PICT', 'family', ',', 'take', 'this', 'opportunity', 'to', 'thank', 'all', 'the', 'stakeholders', '(', 'true', 'Brand', 'Ambassadors/Partners', ')', 'for', 'showing', 'solidarity', 'and', 'continuous', 'support', 'in', 'achieving', 'a', 'pioneering', 'position', 'over', 'the', 'last', 'five', 'decades', '.', 'Let', 'me', 'assure', 'you', 'that', 'PICT', 'will', 'provide', 'you', 'with', 'the', 'best', 'combination', 'of', 'skills', ',', 'knowledge', ',', '&', 'teamwork', '(', 'not', 'neglecting', '“', 'attitude', '”', ')', ',', 'to', 'succeed', 'in', 'your', 'chosen', 'career', 'field', 'and', 'will', 'equip', 'the', 'students', 'with', 'the', 'professional', 'acumen', 'that', 'will', 'help', 'them', 'to', 'meet', 'the', 'challenges', 'of', 'the', 'modern', 'industrial', '&', 'service', 'work', 'environment', '.', 'Finally', ',', 'I', 'extend', 'my', 'best', 'wishes', 'to', 'all', 'my', 'student', 'friends', 'for', 'an', 'exciting', 'and', 'rewarding', ',', 'challenging', ',', 'and', 'stimulating', ',', 'four', 'years', 'on', 'this', 'campus', '&', 'a', 'bright', 'future', 'thereafter', '.']\n",
      "['It', 'gives', 'me', 'immense', 'pleasure', 'in', 'welcoming', 'you', 'to', 'SCTR', '’', 's', 'Pune', 'Institute', 'of', 'Computer', 'Technology', ',', 'a', 'premier', 'and', 'a', 'very', 'reputed', 'institute', '.', 'Pune', 'Institute', 'of', 'Computer', 'Technology', ',', 'popularly', 'known', 'as', 'PICT', ',', 'was', 'established', 'in', '1983', ',', 'by', 'a', 'group', 'of', 'great', 'visionaries', ',', 'Late', 'Mr.', 'Dr.', 'N.', 'Gopalkrishnan', ',', 'Mr.', 'N.', 'Rama', 'Krishnan', 'and', 'Managing', 'Trustee', 'Mr.', 'Rajkumar', 'Kothavale', '.', 'The', 'ingenious', 'founder', 'team', 'and', 'Secretary', 'Mr.', 'Swastik', 'Sir', 'continue', 'to', 'lead', 'PICT', 'in', 'its', 'journey', 'of', 'excellence', '.', 'PICT', ',', 'affiliated', 'to', 'Savitribai', 'Phule', 'Pune', 'University', 'is', 'a', 'pioneer', 'in', 'introducing', 'Computer', 'Engineering', 'undergraduate', 'program', 'in', 'Maharashtra', 'state', 'and', 'it', 'is', 'recognized', 'as', 'the', 'most', 'sought-after', 'institution', ',', 'to', 'educate', 'young', 'aspiring', 'minds', '.', 'PICT', 'offers', 'Quality', 'Education', 'in', 'Engineering', 'and', 'Research', 'through', 'its', 'undergraduate', ',', 'post', 'graduate', 'programs', 'in', 'CE', ',', 'E', '&', 'TC', 'and', 'IT', 'and', 'its', 'research', 'centres', 'in', 'CE', 'and', 'E', '&', 'TC', 'department', '.', 'The', 'undergraduate', 'programmes', 'are', 'consistently', 'accredited', 'by', 'National', 'Board', 'of', 'Accreditation', '(', 'NBA', ')', '.', 'The', 'institution', 'is', 'also', 'accredited', 'by', 'National', 'Assessment', 'Accreditation', 'Council', '(', 'NAAC', ')', 'and', 'is', 'ISO', '9001:2015', 'certified', '.', 'It', 'is', 'graded', '‘', 'A', '’', 'by', 'Director', 'of', 'Technical', 'Education', '(', 'DTE', ')', ',', 'Maharashtra', 'state', '.', '“', 'Scientists', 'study', 'the', 'world', 'as', 'it', 'is', ',', 'engineers', 'create', 'the', 'world', 'that', 'never', 'has', 'been.', '”', '—', 'Theodore', 'von', 'Karman', 'With', 'a', 'very', 'Visionary', 'Management', ',', 'Dedicated', 'Director', ',', 'and', 'committed', 'faculty', 'members', ',', 'entire', 'PICT', 'Family', 'strives', 'to', 'nurture', 'the', 'young', 'inspiring', 'minds', 'to', 'create', 'avenues', 'for', 'the', 'wellbeing', 'of', 'the', 'entire', 'world', '.', 'Untiring', 'and', 'directed', 'efforts', 'by', 'PICT', 'are', 'focused', 'on', 'out-come', 'based', 'education', 'and', 'preparing', 'them', 'for', 'the', 'real', 'world', '.', 'The', 'promotive', 'culture', 'and', 'supportive', 'ecosystem', 'of', 'PICT', 'ensures', 'excellent', 'academic', 'record', 'of', 'the', 'students', 'and', 'drives', 'their', 'participation', 'in', 'numerous', 'Co-Curricular', 'and', 'Extra-curricular', 'activities', '.', 'Beginning', 'with', 'flagship', 'event', 'of', 'PICT-', 'Impetus', 'and', 'Concepts', ',', 'the', 'student', 'participation', 'extends', 'to', 'various', 'clubs', 'and', 'special', 'interest', 'groups', ',', 'inculcating', 'team', 'spirit', ',', 'professionalism', ',', 'ethics', ',', 'values', 'and', 'self-competitiveness', 'among', 'the', 'students', ',', 'thus', ',', 'moulding', 'them', 'be', 'better', 'versions', 'of', 'themselves', '.', 'PICT', 'has', 'strong', 'industry', 'institute', 'interaction', 'to', 'bridge', 'the', 'industry', '-academia', 'gap', 'by', 'providing', 'the', 'student', 'fraternity', 'with', 'the', 'desirous', 'exposure', 'to', 'the', 'industrial', 'cultural', '.', 'Extra-ordinary', 'opportunities', 'of', 'Placement', 'with', 'outstanding', 'track', 'record', '(', 'qualitative', 'and', 'quantitative', ')', 'makes', 'PICT', 'the', 'most', 'preferred', 'learning', 'hub', '.', 'Several', 'multinational', 'and', 'dream', 'companies', 'visit', 'the', 'campus', 'for', 'placement', 'and', 'internship', 'opportunities', '.', 'The', 'institute', 'caters', 'to', 'the', 'diverse', 'interests', 'and', 'ambitions', 'of', 'the', 'students', 'like', 'entrepreneurship', 'through', 'its', 'Start-up', '&', 'Innovation', 'Cell', 'and', 'Entrepreneurship', 'Development', 'Cell', '.', 'Faculty', 'at', 'PICT', 'is', 'a', 'synergetic', 'team', 'of', 'experienced', 'and', 'qualified', 'minds', '.', 'They', 'are', 'actively', 'involved', 'in', 'research', '&', 'development', ',', 'product', 'development', 'and', 'consultancy', '.', 'They', 'have', 'fetched', 'several', 'grants', 'from', 'various', 'funding', 'agencies', '.', 'This', 'has', 'also', 'further', 'helped', 'student', 'community', 'to', 'sharpen', 'their', 'research', 'aptitudes', 'and', 'attitudes', 'along', 'with', 'academic', 'excellence', ',', 'helping', 'them', 'in', 'overall', 'professional', 'growth', '.', 'We', ',', 'at', 'PICT', 'have', 'excellent', 'faculty', ',', 'state-of-', 'the-art', 'infrastructure', 'and', 'laboratories', '.', 'Spacious', 'green', 'campus', ',', 'well', 'stalked', 'library', 'and', 'peaceful', 'atmosphere', 'that', 'ensures', 'wonderful', 'learning', '.', 'Dear', 'young', 'friends', ',', 'I', 'am', 'confident', 'that', 'your', 'journey', 'in', 'PICT', 'is', 'undoubtedly', ',', 'going', 'the', 'be', 'the', 'most', 'rewarding', ',', 'lifetime', 'experience', '.', 'So', ',', 'make', 'the', 'best', 'of', 'your', 'time', ',', 'work', 'hard', '&', 'smart', 'for', 'your', 'growth', '.', 'I', 'once', 'again', 'Welcome', 'all', 'the', 'young', 'buddy', 'minds', '-', 'our', 'future', 'leaders', 'to', '“', 'PICT', 'Family', '”', 'and', 'wish', 'them', 'success', 'ahead', '.']\n"
     ]
    }
   ],
   "source": [
    "tokenized_sentences = []\n",
    "\n",
    "for i in range(2):\n",
    "    print(sent_tokenize(data[i]))\n",
    "    tokenized_sentences.append(sent_tokenize(data[i]))\n",
    "word_tokens = []\n",
    "for i in range(2):\n",
    "    print(word_tokenize(data[i]))\n",
    "    word_tokens.append(word_tokenize(data[i]))"
   ]
  },
  {
   "cell_type": "code",
   "execution_count": 10,
   "id": "7976d904-24fa-4379-a50b-843f640e6485",
   "metadata": {},
   "outputs": [],
   "source": [
    "from nltk.corpus import stopwords"
   ]
  },
  {
   "cell_type": "code",
   "execution_count": 12,
   "id": "46e6f8bc-d05f-4e90-990b-2610876e0741",
   "metadata": {},
   "outputs": [
    {
     "name": "stderr",
     "output_type": "stream",
     "text": [
      "[nltk_data] Downloading package stopwords to\n",
      "[nltk_data]     /Users/shreenath/nltk_data...\n",
      "[nltk_data]   Unzipping corpora/stopwords.zip.\n"
     ]
    },
    {
     "data": {
      "text/plain": [
       "True"
      ]
     },
     "execution_count": 12,
     "metadata": {},
     "output_type": "execute_result"
    }
   ],
   "source": [
    "nltk.download('stopwords')"
   ]
  },
  {
   "cell_type": "code",
   "execution_count": 14,
   "id": "b5715929-28ad-4d2a-994e-b3f5686e660c",
   "metadata": {},
   "outputs": [],
   "source": [
    "stopwords = stopwords.words('english')"
   ]
  },
  {
   "cell_type": "code",
   "execution_count": 15,
   "id": "fb66dba8-9311-4ba3-8eeb-210412289dee",
   "metadata": {},
   "outputs": [
    {
     "data": {
      "text/plain": [
       "2"
      ]
     },
     "execution_count": 15,
     "metadata": {},
     "output_type": "execute_result"
    }
   ],
   "source": [
    "len(word_tokens)"
   ]
  },
  {
   "cell_type": "code",
   "execution_count": 22,
   "id": "0c933683-8ab7-4ff1-8596-5885cd8a24e0",
   "metadata": {},
   "outputs": [
    {
     "name": "stdout",
     "output_type": "stream",
     "text": [
      "942   602\n"
     ]
    }
   ],
   "source": [
    "print(len(word_tokens[0]) , \" \" , len(word_tokens[1]))"
   ]
  },
  {
   "cell_type": "code",
   "execution_count": 23,
   "id": "ed13a2b5-1f84-4e9f-8f64-15b69dde7ea6",
   "metadata": {},
   "outputs": [],
   "source": [
    "filtered_tokens = []\n",
    "\n",
    "for i in range(2):\n",
    "    filter = []\n",
    "    for word in word_tokens[i]:\n",
    "        if word not in stopwords:\n",
    "            filter.append(word)\n",
    "    filtered_tokens.append(filter)"
   ]
  },
  {
   "cell_type": "code",
   "execution_count": 24,
   "id": "66fa94ea-1350-4bef-818d-3a7bcc666518",
   "metadata": {},
   "outputs": [
    {
     "name": "stdout",
     "output_type": "stream",
     "text": [
      "675   431\n"
     ]
    }
   ],
   "source": [
    "print(len(filtered_tokens[0]) , \" \" , len(filtered_tokens[1]))"
   ]
  },
  {
   "cell_type": "code",
   "execution_count": 25,
   "id": "ec7dd3ff-ae6e-4ff2-a194-a43c63c8f165",
   "metadata": {},
   "outputs": [],
   "source": [
    "from nltk import pos_tag"
   ]
  },
  {
   "cell_type": "code",
   "execution_count": 26,
   "id": "122ca634-b03f-45b3-adeb-bc63ab5839dd",
   "metadata": {},
   "outputs": [],
   "source": [
    "pos_tags = []"
   ]
  },
  {
   "cell_type": "code",
   "execution_count": 28,
   "id": "d5e3b3e6-757f-47f0-9f78-b7e61192925d",
   "metadata": {},
   "outputs": [
    {
     "name": "stderr",
     "output_type": "stream",
     "text": [
      "[nltk_data] Downloading package averaged_perceptron_tagger_eng to\n",
      "[nltk_data]     /Users/shreenath/nltk_data...\n",
      "[nltk_data]   Unzipping taggers/averaged_perceptron_tagger_eng.zip.\n"
     ]
    },
    {
     "data": {
      "text/plain": [
       "True"
      ]
     },
     "execution_count": 28,
     "metadata": {},
     "output_type": "execute_result"
    }
   ],
   "source": [
    "nltk.download('averaged_perceptron_tagger_eng')"
   ]
  },
  {
   "cell_type": "code",
   "execution_count": 32,
   "id": "6398eafa-bbef-4e08-a8e1-39f3a2628b5a",
   "metadata": {},
   "outputs": [],
   "source": [
    "for i in range(2):\n",
    "    pos_tags.append(pos_tag(filtered_tokens[i]))"
   ]
  },
  {
   "cell_type": "code",
   "execution_count": null,
   "id": "83ba99cc-7013-4813-8ead-dc883760c014",
   "metadata": {},
   "outputs": [],
   "source": [
    "pos_tags"
   ]
  },
  {
   "cell_type": "code",
   "execution_count": 34,
   "id": "b30c34e2-1455-4e83-96c6-6ac256da27e0",
   "metadata": {},
   "outputs": [],
   "source": [
    "from nltk.stem import PorterStemmer"
   ]
  },
  {
   "cell_type": "code",
   "execution_count": 35,
   "id": "1eab0df5-59ba-4481-a892-b52deb6f9d1c",
   "metadata": {},
   "outputs": [],
   "source": [
    "ps = PorterStemmer()"
   ]
  },
  {
   "cell_type": "code",
   "execution_count": 36,
   "id": "3e1ea426-f43e-4081-9041-6143eeaeae16",
   "metadata": {},
   "outputs": [],
   "source": [
    "stemmed_words = []\n",
    "\n",
    "for i in range(2):\n",
    "    stem = []\n",
    "    for word in filtered_tokens[i]:\n",
    "        stem.append(ps.stem(word))\n",
    "    stemmed_words.append(stem)"
   ]
  },
  {
   "cell_type": "code",
   "execution_count": null,
   "id": "f20b562a-76bd-4e46-bfc7-ba5972ab2aa9",
   "metadata": {},
   "outputs": [],
   "source": [
    "stemmed_words"
   ]
  },
  {
   "cell_type": "code",
   "execution_count": 38,
   "id": "cd3c6510-4db5-4ac8-ade3-70ec824b5021",
   "metadata": {},
   "outputs": [],
   "source": [
    "from nltk.stem import WordNetLemmatizer"
   ]
  },
  {
   "cell_type": "code",
   "execution_count": 39,
   "id": "e75e2e62-bdff-4765-ba1e-8a96c9a6a370",
   "metadata": {},
   "outputs": [],
   "source": [
    "lemmatizer = WordNetLemmatizer()"
   ]
  },
  {
   "cell_type": "code",
   "execution_count": 41,
   "id": "0941994b-1e4d-4e78-aea0-892e198273ab",
   "metadata": {},
   "outputs": [
    {
     "name": "stderr",
     "output_type": "stream",
     "text": [
      "[nltk_data] Downloading package wordnet to\n",
      "[nltk_data]     /Users/shreenath/nltk_data...\n"
     ]
    },
    {
     "data": {
      "text/plain": [
       "True"
      ]
     },
     "execution_count": 41,
     "metadata": {},
     "output_type": "execute_result"
    }
   ],
   "source": [
    "nltk.download('wordnet')"
   ]
  },
  {
   "cell_type": "code",
   "execution_count": 42,
   "id": "bd703401-7b1d-4b71-9193-65b6474c84c6",
   "metadata": {},
   "outputs": [],
   "source": [
    "lemmatized_words = []\n",
    "\n",
    "for i in range(2):\n",
    "    lemma = []\n",
    "    for word in filtered_tokens[i]:\n",
    "        lemma.append(lemmatizer.lemmatize(word))\n",
    "    lemmatized_words.append(lemma)"
   ]
  },
  {
   "cell_type": "code",
   "execution_count": null,
   "id": "0cf75794-328a-4d57-bacb-2e4923224fbc",
   "metadata": {},
   "outputs": [],
   "source": [
    "lemmatized_words"
   ]
  },
  {
   "cell_type": "code",
   "execution_count": 46,
   "id": "402dc062-97b2-43c4-9363-97d857199c49",
   "metadata": {},
   "outputs": [],
   "source": [
    "def calc_tf(doc):\n",
    "    word_tokens = word_tokenize(doc)\n",
    "    dict1 = dict()\n",
    "\n",
    "    for word in word_tokens:\n",
    "        if word not in dict1.keys():\n",
    "            dict1[word] = 1\n",
    "        else:\n",
    "            dict1[word] += 1\n",
    "\n",
    "    tf_dict = dict()\n",
    "    for word, count in dict1.items():\n",
    "        tf_dict[word] = count/len(word_tokens)\n",
    "\n",
    "    return tf_dict"
   ]
  },
  {
   "cell_type": "code",
   "execution_count": 47,
   "id": "86ec7a10-f510-4f58-815b-a1e2f13265ca",
   "metadata": {},
   "outputs": [
    {
     "data": {
      "text/plain": [
       "{'Pune': 0.0031847133757961785,\n",
       " 'Institute': 0.0021231422505307855,\n",
       " 'of': 0.03078556263269639,\n",
       " 'Computer': 0.005307855626326964,\n",
       " 'Technology': 0.005307855626326964,\n",
       " '(': 0.010615711252653927,\n",
       " 'PICT': 0.014861995753715499,\n",
       " ')': 0.010615711252653927,\n",
       " 'was': 0.0010615711252653928,\n",
       " 'established': 0.0010615711252653928,\n",
       " 'in': 0.014861995753715499,\n",
       " '1983': 0.0010615711252653928,\n",
       " 'by': 0.0074309978768577496,\n",
       " 'a': 0.012738853503184714,\n",
       " 'group': 0.0010615711252653928,\n",
       " 'enterprising': 0.0021231422505307855,\n",
       " 'visionary': 0.0010615711252653928,\n",
       " 'professionals': 0.0010615711252653928,\n",
       " 'and': 0.03184713375796178,\n",
       " 'has': 0.0031847133757961785,\n",
       " 'come': 0.0021231422505307855,\n",
       " 'long': 0.0010615711252653928,\n",
       " 'way': 0.0010615711252653928,\n",
       " 'marched': 0.0010615711252653928,\n",
       " 'ahead': 0.0010615711252653928,\n",
       " 'with': 0.012738853503184714,\n",
       " 'quality': 0.0021231422505307855,\n",
       " 'education': 0.0021231422505307855,\n",
       " 'imbibed': 0.0010615711252653928,\n",
       " 'professional': 0.0031847133757961785,\n",
       " 'ethical': 0.0010615711252653928,\n",
       " 'values': 0.0021231422505307855,\n",
       " '.': 0.03821656050955414,\n",
       " 'Our': 0.0021231422505307855,\n",
       " 'mission': 0.0010615711252653928,\n",
       " 'is': 0.008492569002123142,\n",
       " 'to': 0.01592356687898089,\n",
       " 'be': 0.0021231422505307855,\n",
       " 'the': 0.03927813163481953,\n",
       " 'most': 0.0031847133757961785,\n",
       " 'sought-after': 0.0010615711252653928,\n",
       " 'institute': 0.0021231422505307855,\n",
       " 'Engineering': 0.0074309978768577496,\n",
       " 'research': 0.006369426751592357,\n",
       " ',': 0.0732484076433121,\n",
       " 'that': 0.0074309978768577496,\n",
       " 'provides': 0.0021231422505307855,\n",
       " 'relevant': 0.0010615711252653928,\n",
       " 'knowledge': 0.0031847133757961785,\n",
       " 'creates': 0.0021231422505307855,\n",
       " 'challenging': 0.0031847133757961785,\n",
       " 'opportunities': 0.0010615711252653928,\n",
       " 'inculcate': 0.0021231422505307855,\n",
       " 'social': 0.0010615711252653928,\n",
       " 'responsibilities': 0.0010615711252653928,\n",
       " 'cut': 0.0010615711252653928,\n",
       " 'niche': 0.0010615711252653928,\n",
       " 'for': 0.0074309978768577496,\n",
       " 'itself': 0.0010615711252653928,\n",
       " 'one': 0.0031847133757961785,\n",
       " 'India': 0.0010615711252653928,\n",
       " '’': 0.0021231422505307855,\n",
       " 's': 0.0021231422505307855,\n",
       " 'leading': 0.0010615711252653928,\n",
       " 'institutions': 0.0021231422505307855,\n",
       " 'higher': 0.0010615711252653928,\n",
       " 'Technical': 0.0010615711252653928,\n",
       " 'Education': 0.0010615711252653928,\n",
       " 'Research': 0.0010615711252653928,\n",
       " 'International': 0.0010615711252653928,\n",
       " 'repute': 0.0010615711252653928,\n",
       " 'We': 0.0031847133757961785,\n",
       " 'celebrate': 0.0010615711252653928,\n",
       " 'illustrious': 0.0010615711252653928,\n",
       " 'accomplishments': 0.0010615711252653928,\n",
       " 'past': 0.0010615711252653928,\n",
       " 'take': 0.0031847133757961785,\n",
       " 'pride': 0.0010615711252653928,\n",
       " 'our': 0.005307855626326964,\n",
       " 'position': 0.0021231422505307855,\n",
       " 'as': 0.0031847133757961785,\n",
       " 'top': 0.0031847133757961785,\n",
       " 'country': 0.0010615711252653928,\n",
       " 'At': 0.0010615711252653928,\n",
       " 'talent': 0.0010615711252653928,\n",
       " 'ambitions': 0.0010615711252653928,\n",
       " 'together': 0.0010615711252653928,\n",
       " 'culture': 0.0021231422505307855,\n",
       " 'nourishes': 0.0010615711252653928,\n",
       " 'thinking': 0.0031847133757961785,\n",
       " 'encourages': 0.0010615711252653928,\n",
       " 'every': 0.0010615711252653928,\n",
       " 'student': 0.0031847133757961785,\n",
       " 'reach': 0.0010615711252653928,\n",
       " 'his': 0.0010615711252653928,\n",
       " 'or': 0.0021231422505307855,\n",
       " 'her': 0.0010615711252653928,\n",
       " 'full': 0.0010615711252653928,\n",
       " 'potential': 0.0010615711252653928,\n",
       " 'Life': 0.0010615711252653928,\n",
       " 'at': 0.0031847133757961785,\n",
       " 'much': 0.0010615711252653928,\n",
       " 'more': 0.0021231422505307855,\n",
       " 'than': 0.0021231422505307855,\n",
       " 'regular': 0.0010615711252653928,\n",
       " 'academic': 0.0021231422505307855,\n",
       " 'activities': 0.0031847133757961785,\n",
       " 'campus': 0.0031847133757961785,\n",
       " 'technically': 0.0010615711252653928,\n",
       " 'vibrant': 0.0010615711252653928,\n",
       " 'lot': 0.0010615711252653928,\n",
       " 'throughout': 0.0010615711252653928,\n",
       " 'year': 0.0021231422505307855,\n",
       " 'supported': 0.0010615711252653928,\n",
       " 'societies': 0.0010615711252653928,\n",
       " 'like': 0.0031847133757961785,\n",
       " 'IEEE': 0.0010615711252653928,\n",
       " 'ACM': 0.0010615711252653928,\n",
       " 'CSI': 0.0010615711252653928,\n",
       " 'IET': 0.0010615711252653928,\n",
       " 'Additionally': 0.0010615711252653928,\n",
       " 'there': 0.0010615711252653928,\n",
       " 'are': 0.006369426751592357,\n",
       " 'clubs/groups': 0.0010615711252653928,\n",
       " 'ROBOCON': 0.0010615711252653928,\n",
       " 'DRONE': 0.0010615711252653928,\n",
       " 'SIGs': 0.0010615711252653928,\n",
       " 'BUDDYs': 0.0010615711252653928,\n",
       " 'Automobile': 0.0010615711252653928,\n",
       " 'electric': 0.0010615711252653928,\n",
       " 'Racing': 0.0010615711252653928,\n",
       " 'Cart': 0.0010615711252653928,\n",
       " 'Debate': 0.0021231422505307855,\n",
       " 'TEDx': 0.0010615711252653928,\n",
       " 'MUN': 0.0010615711252653928,\n",
       " 'etc': 0.0021231422505307855,\n",
       " 'The': 0.009554140127388535,\n",
       " 'art': 0.0010615711252653928,\n",
       " 'circle': 0.0010615711252653928,\n",
       " 'cultural': 0.0021231422505307855,\n",
       " 'groups': 0.0010615711252653928,\n",
       " 'known': 0.0010615711252653928,\n",
       " 'its': 0.0010615711252653928,\n",
       " 'talents': 0.0010615711252653928,\n",
       " '&': 0.018046709129511677,\n",
       " 'achievements': 0.0010615711252653928,\n",
       " 'include': 0.0010615711252653928,\n",
       " 'but': 0.0031847133757961785,\n",
       " 'not': 0.004246284501061571,\n",
       " 'limited': 0.0010615711252653928,\n",
       " ':': 0.0010615711252653928,\n",
       " 'Art': 0.0010615711252653928,\n",
       " 'Drama': 0.0010615711252653928,\n",
       " 'Dance': 0.0010615711252653928,\n",
       " 'Singing': 0.0010615711252653928,\n",
       " 'quizzes': 0.0010615711252653928,\n",
       " 'students': 0.009554140127388535,\n",
       " 'have': 0.0031847133757961785,\n",
       " 'bagged': 0.0010615711252653928,\n",
       " 'many': 0.0010615711252653928,\n",
       " 'prestigious': 0.0010615711252653928,\n",
       " 'awards': 0.0010615711252653928,\n",
       " 'prizes': 0.0010615711252653928,\n",
       " 'medals': 0.0010615711252653928,\n",
       " 'technical': 0.0021231422505307855,\n",
       " 'sports': 0.0021231422505307855,\n",
       " 'events': 0.0021231422505307855,\n",
       " 'Microsoft': 0.0010615711252653928,\n",
       " 'Imagine': 0.0010615711252653928,\n",
       " 'Cup': 0.0010615711252653928,\n",
       " 'Hackathons': 0.0010615711252653928,\n",
       " 'Robocon': 0.0010615711252653928,\n",
       " 'Purushottam': 0.0010615711252653928,\n",
       " 'Karandak': 0.0021231422505307855,\n",
       " 'Firodiya': 0.0010615711252653928,\n",
       " 'achievers': 0.0010615711252653928,\n",
       " 'big': 0.0010615711252653928,\n",
       " 'dreams': 0.0010615711252653928,\n",
       " 'fierce': 0.0010615711252653928,\n",
       " 'drive': 0.0010615711252653928,\n",
       " 'They': 0.0021231422505307855,\n",
       " 'pushed': 0.0010615711252653928,\n",
       " 'expand': 0.0010615711252653928,\n",
       " 'their': 0.004246284501061571,\n",
       " 'only': 0.0021231422505307855,\n",
       " 'professors': 0.0010615711252653928,\n",
       " 'also': 0.005307855626326964,\n",
       " 'extraordinary': 0.0010615711252653928,\n",
       " 'individuals': 0.0010615711252653928,\n",
       " 'who': 0.0010615711252653928,\n",
       " 'peers': 0.0010615711252653928,\n",
       " 'wish': 0.0010615711252653928,\n",
       " 'entering': 0.0010615711252653928,\n",
       " 'will': 0.004246284501061571,\n",
       " 'become': 0.0010615711252653928,\n",
       " 'holistic': 0.0010615711252653928,\n",
       " 'responsible': 0.0010615711252653928,\n",
       " 'person': 0.0010615711252653928,\n",
       " 'contributing': 0.0010615711252653928,\n",
       " 'technocratic': 0.0010615711252653928,\n",
       " 'demands': 0.0010615711252653928,\n",
       " 'world': 0.0010615711252653928,\n",
       " 'betterment': 0.0010615711252653928,\n",
       " 'society': 0.0010615711252653928,\n",
       " 'offers': 0.0010615711252653928,\n",
       " 'three': 0.0010615711252653928,\n",
       " 'under-graduate': 0.0010615711252653928,\n",
       " 'programs': 0.0021231422505307855,\n",
       " 'Electronics': 0.0031847133757961785,\n",
       " 'Telecommunication': 0.0031847133757961785,\n",
       " 'Information': 0.0021231422505307855,\n",
       " ';': 0.0010615711252653928,\n",
       " 'four': 0.0021231422505307855,\n",
       " 'post-graduate': 0.0010615711252653928,\n",
       " 'Data': 0.0010615711252653928,\n",
       " 'Science': 0.0010615711252653928,\n",
       " 'Wireless': 0.0010615711252653928,\n",
       " 'Communication': 0.0010615711252653928,\n",
       " 'It': 0.0021231422505307855,\n",
       " 'Savitribai': 0.0021231422505307855,\n",
       " 'Phule': 0.0021231422505307855,\n",
       " 'University': 0.0021231422505307855,\n",
       " 'recognized': 0.0010615711252653928,\n",
       " 'center': 0.0010615711252653928,\n",
       " 'Campus': 0.0010615711252653928,\n",
       " 'houses': 0.0010615711252653928,\n",
       " '3500+': 0.0010615711252653928,\n",
       " '240+': 0.0010615711252653928,\n",
       " 'Staff': 0.0010615711252653928,\n",
       " 'results': 0.0010615711252653928,\n",
       " 'best': 0.0031847133757961785,\n",
       " 'among': 0.0021231422505307855,\n",
       " 'all': 0.005307855626326964,\n",
       " 'colleges': 0.0010615711252653928,\n",
       " 'affiliated': 0.0010615711252653928,\n",
       " 'SPPU': 0.0031847133757961785,\n",
       " 'heartening': 0.0010615711252653928,\n",
       " 'know': 0.0010615711252653928,\n",
       " '326': 0.0010615711252653928,\n",
       " 'secured': 0.0010615711252653928,\n",
       " 'SGPA': 0.0010615711252653928,\n",
       " '10/10': 0.0010615711252653928,\n",
       " 'FE': 0.0010615711252653928,\n",
       " '1st': 0.0010615711252653928,\n",
       " 'Semester': 0.0010615711252653928,\n",
       " 'examination': 0.0021231422505307855,\n",
       " '100': 0.0021231422505307855,\n",
       " '%': 0.0021231422505307855,\n",
       " 'pass': 0.0010615711252653928,\n",
       " 'percentage': 0.0010615711252653928,\n",
       " 'them': 0.0031847133757961785,\n",
       " 'getting': 0.0010615711252653928,\n",
       " 'distinctions': 0.0010615711252653928,\n",
       " 'In': 0.0010615711252653928,\n",
       " 'Final': 0.0010615711252653928,\n",
       " 'BE': 0.0010615711252653928,\n",
       " 'result': 0.0010615711252653928,\n",
       " 'almost': 0.0010615711252653928,\n",
       " 'securing': 0.0010615711252653928,\n",
       " 'distinction': 0.0010615711252653928,\n",
       " 'Placement': 0.0010615711252653928,\n",
       " 'record': 0.0010615711252653928,\n",
       " 'excellent': 0.0010615711252653928,\n",
       " 'an': 0.004246284501061571,\n",
       " 'average': 0.0010615711252653928,\n",
       " 'salary': 0.0010615711252653928,\n",
       " '10.5': 0.0010615711252653928,\n",
       " 'LPA': 0.0010615711252653928,\n",
       " 'highest': 0.0010615711252653928,\n",
       " 'annual': 0.0010615711252653928,\n",
       " 'package': 0.0010615711252653928,\n",
       " '41': 0.0010615711252653928,\n",
       " 'Lakh': 0.0010615711252653928,\n",
       " 'despite': 0.0010615711252653928,\n",
       " 'COVID-19': 0.0010615711252653928,\n",
       " 'disruption': 0.0010615711252653928,\n",
       " 'One': 0.0010615711252653928,\n",
       " 'got': 0.0010615711252653928,\n",
       " 'selected': 0.0010615711252653928,\n",
       " 'software': 0.0010615711252653928,\n",
       " 'development': 0.0021231422505307855,\n",
       " 'engineer': 0.0010615711252653928,\n",
       " 'Package': 0.0010615711252653928,\n",
       " '1.12': 0.0010615711252653928,\n",
       " 'Crore': 0.0010615711252653928,\n",
       " 'Almost': 0.0010615711252653928,\n",
       " 'top-notch': 0.0010615711252653928,\n",
       " 'companies': 0.0010615711252653928,\n",
       " 'visit': 0.0010615711252653928,\n",
       " 'recruitment': 0.0010615711252653928,\n",
       " 'faculty': 0.0021231422505307855,\n",
       " 'members': 0.0010615711252653928,\n",
       " 'undertaken': 0.0010615711252653928,\n",
       " 'projects': 0.0010615711252653928,\n",
       " 'funded': 0.0010615711252653928,\n",
       " 'DST': 0.0010615711252653928,\n",
       " 'AICTE': 0.0010615711252653928,\n",
       " 'DRDO': 0.0010615711252653928,\n",
       " 'received': 0.0010615711252653928,\n",
       " 'significant': 0.0010615711252653928,\n",
       " 'consultancy': 0.0010615711252653928,\n",
       " 'work': 0.0021231422505307855,\n",
       " 'from': 0.0010615711252653928,\n",
       " 'industry': 0.0031847133757961785,\n",
       " 'number': 0.0010615711252653928,\n",
       " 'Publications': 0.0010615711252653928,\n",
       " 'Patents': 0.0010615711252653928,\n",
       " 'Product': 0.0010615711252653928,\n",
       " 'increased': 0.0010615711252653928,\n",
       " 'significantly': 0.0010615711252653928,\n",
       " 'Entrepreneurship': 0.0010615711252653928,\n",
       " 'Development': 0.0010615711252653928,\n",
       " 'Cell': 0.0021231422505307855,\n",
       " 'EDC': 0.0010615711252653928,\n",
       " 'Startup': 0.0010615711252653928,\n",
       " 'Innovation': 0.0010615711252653928,\n",
       " 'SIC': 0.0010615711252653928,\n",
       " 'skills': 0.0031847133757961785,\n",
       " 'building': 0.0010615711252653928,\n",
       " 'sustainable': 0.0010615711252653928,\n",
       " 'entrepreneurial': 0.0010615711252653928,\n",
       " 'ecosystem': 0.0010615711252653928,\n",
       " 'empower': 0.0010615711252653928,\n",
       " 'young': 0.0010615711252653928,\n",
       " 'talented': 0.0010615711252653928,\n",
       " 'minds': 0.0010615711252653928,\n",
       " 'transform': 0.0010615711252653928,\n",
       " 'finding': 0.0010615711252653928,\n",
       " 'innovative': 0.0010615711252653928,\n",
       " 'ideas': 0.0010615711252653928,\n",
       " 'into': 0.0010615711252653928,\n",
       " 'product': 0.0010615711252653928,\n",
       " 'service': 0.0021231422505307855,\n",
       " 'value': 0.0010615711252653928,\n",
       " 'current': 0.0010615711252653928,\n",
       " 'scenario': 0.0010615711252653928,\n",
       " 'local': 0.0010615711252653928,\n",
       " 'national': 0.0010615711252653928,\n",
       " 'international': 0.0010615711252653928,\n",
       " 'levels': 0.0010615711252653928,\n",
       " 'intense': 0.0010615711252653928,\n",
       " 'competition': 0.0010615711252653928,\n",
       " 'equal': 0.0010615711252653928,\n",
       " 'opportunity': 0.0031847133757961785,\n",
       " 'student-centered': 0.0010615711252653928,\n",
       " 'learning': 0.0010615711252653928,\n",
       " 'environment': 0.0021231422505307855,\n",
       " 'close': 0.0010615711252653928,\n",
       " 'student-faculty': 0.0010615711252653928,\n",
       " 'interaction': 0.0010615711252653928,\n",
       " 'constant': 0.0010615711252653928,\n",
       " 'participation': 0.0010615711252653928,\n",
       " 'Through': 0.0010615711252653928,\n",
       " 'periodic': 0.0010615711252653928,\n",
       " 'seminars': 0.0010615711252653928,\n",
       " 'symposia': 0.0010615711252653928,\n",
       " 'workshops': 0.0010615711252653928,\n",
       " 'visits': 0.0010615711252653928,\n",
       " 'integral': 0.0010615711252653928,\n",
       " 'part': 0.0021231422505307855,\n",
       " 'course': 0.0010615711252653928,\n",
       " 'equipped': 0.0010615711252653928,\n",
       " 'critical': 0.0010615711252653928,\n",
       " 'creativity': 0.0010615711252653928,\n",
       " 'excel': 0.0010615711252653928,\n",
       " 'engineering': 0.0010615711252653928,\n",
       " 'profession': 0.0010615711252653928,\n",
       " 'Alongside': 0.0010615711252653928,\n",
       " 'technology': 0.0010615711252653928,\n",
       " 'fairs': 0.0010615711252653928,\n",
       " 'college': 0.0010615711252653928,\n",
       " 'carnivals': 0.0010615711252653928,\n",
       " 'summits': 0.0010615711252653928,\n",
       " 'other': 0.0010615711252653928,\n",
       " 'such': 0.0010615711252653928,\n",
       " 'co-curricular': 0.0010615711252653928,\n",
       " 'extra-curricular': 0.0010615711252653928,\n",
       " 'constitute': 0.0010615711252653928,\n",
       " 'important': 0.0010615711252653928,\n",
       " 'life': 0.0010615711252653928,\n",
       " 'I': 0.0031847133757961785,\n",
       " 'this': 0.004246284501061571,\n",
       " 'appreciate': 0.0010615711252653928,\n",
       " 'commendable': 0.0010615711252653928,\n",
       " 'job': 0.0010615711252653928,\n",
       " 'staff': 0.0010615711252653928,\n",
       " 'adapting': 0.0010615711252653928,\n",
       " 'new': 0.0021231422505307855,\n",
       " 'innovate': 0.0010615711252653928,\n",
       " 'ICT-based': 0.0010615711252653928,\n",
       " 'online': 0.0010615711252653928,\n",
       " 'teaching-learning': 0.0010615711252653928,\n",
       " 'model': 0.0010615711252653928,\n",
       " 'during': 0.0010615711252653928,\n",
       " 'period': 0.0010615711252653928,\n",
       " 'normal': 0.0010615711252653928,\n",
       " 'along': 0.0010615711252653928,\n",
       " 'entire': 0.0010615711252653928,\n",
       " 'family': 0.0010615711252653928,\n",
       " 'thank': 0.0010615711252653928,\n",
       " 'stakeholders': 0.0010615711252653928,\n",
       " 'true': 0.0010615711252653928,\n",
       " 'Brand': 0.0010615711252653928,\n",
       " 'Ambassadors/Partners': 0.0010615711252653928,\n",
       " 'showing': 0.0010615711252653928,\n",
       " 'solidarity': 0.0010615711252653928,\n",
       " 'continuous': 0.0010615711252653928,\n",
       " 'support': 0.0010615711252653928,\n",
       " 'achieving': 0.0010615711252653928,\n",
       " 'pioneering': 0.0010615711252653928,\n",
       " 'over': 0.0010615711252653928,\n",
       " 'last': 0.0010615711252653928,\n",
       " 'five': 0.0010615711252653928,\n",
       " 'decades': 0.0010615711252653928,\n",
       " 'Let': 0.0010615711252653928,\n",
       " 'me': 0.0010615711252653928,\n",
       " 'assure': 0.0010615711252653928,\n",
       " 'you': 0.0021231422505307855,\n",
       " 'provide': 0.0010615711252653928,\n",
       " 'combination': 0.0010615711252653928,\n",
       " 'teamwork': 0.0010615711252653928,\n",
       " 'neglecting': 0.0010615711252653928,\n",
       " '“': 0.0010615711252653928,\n",
       " 'attitude': 0.0010615711252653928,\n",
       " '”': 0.0010615711252653928,\n",
       " 'succeed': 0.0010615711252653928,\n",
       " 'your': 0.0010615711252653928,\n",
       " 'chosen': 0.0010615711252653928,\n",
       " 'career': 0.0010615711252653928,\n",
       " 'field': 0.0010615711252653928,\n",
       " 'equip': 0.0010615711252653928,\n",
       " 'acumen': 0.0010615711252653928,\n",
       " 'help': 0.0010615711252653928,\n",
       " 'meet': 0.0010615711252653928,\n",
       " 'challenges': 0.0010615711252653928,\n",
       " 'modern': 0.0010615711252653928,\n",
       " 'industrial': 0.0010615711252653928,\n",
       " 'Finally': 0.0010615711252653928,\n",
       " 'extend': 0.0010615711252653928,\n",
       " 'my': 0.0021231422505307855,\n",
       " 'wishes': 0.0010615711252653928,\n",
       " 'friends': 0.0010615711252653928,\n",
       " 'exciting': 0.0010615711252653928,\n",
       " 'rewarding': 0.0010615711252653928,\n",
       " 'stimulating': 0.0010615711252653928,\n",
       " 'years': 0.0010615711252653928,\n",
       " 'on': 0.0010615711252653928,\n",
       " 'bright': 0.0010615711252653928,\n",
       " 'future': 0.0010615711252653928,\n",
       " 'thereafter': 0.0010615711252653928}"
      ]
     },
     "execution_count": 47,
     "metadata": {},
     "output_type": "execute_result"
    }
   ],
   "source": [
    "calc_tf(p1)"
   ]
  },
  {
   "cell_type": "code",
   "execution_count": 54,
   "id": "ca5052b0-18cc-44d4-a2fa-da78452f5b85",
   "metadata": {},
   "outputs": [],
   "source": [
    "def calc_idf():\n",
    "    word_all = word_tokens[0]+word_tokens[1]\n",
    "    dict_idf = dict()\n",
    "\n",
    "    for word in set(word_all):\n",
    "        count = 0\n",
    "        if word in word_tokens[0]:\n",
    "            count+=1\n",
    "        if word in word_tokens[1]:\n",
    "            count+=1\n",
    "        \n",
    "        dict_idf[word] = np.log(2/count)\n",
    "\n",
    "    return dict_idf\n",
    "                "
   ]
  },
  {
   "cell_type": "code",
   "execution_count": 55,
   "id": "21c7f451-f751-44d1-8eb1-e142155cb347",
   "metadata": {},
   "outputs": [],
   "source": [
    "dict_idf = calc_idf()"
   ]
  },
  {
   "cell_type": "code",
   "execution_count": 57,
   "id": "1af8a15c-b830-4d04-8d18-4cd38158f05e",
   "metadata": {},
   "outputs": [
    {
     "data": {
      "text/plain": [
       "np.float64(0.0)"
      ]
     },
     "execution_count": 57,
     "metadata": {},
     "output_type": "execute_result"
    }
   ],
   "source": [
    "dict_idf['Pune']"
   ]
  },
  {
   "cell_type": "code",
   "execution_count": null,
   "id": "5dba0c6e-380d-4b10-9e50-874296369f42",
   "metadata": {},
   "outputs": [],
   "source": []
  }
 ],
 "metadata": {
  "kernelspec": {
   "display_name": "Python 3 (ipykernel)",
   "language": "python",
   "name": "python3"
  },
  "language_info": {
   "codemirror_mode": {
    "name": "ipython",
    "version": 3
   },
   "file_extension": ".py",
   "mimetype": "text/x-python",
   "name": "python",
   "nbconvert_exporter": "python",
   "pygments_lexer": "ipython3",
   "version": "3.12.5"
  }
 },
 "nbformat": 4,
 "nbformat_minor": 5
}
